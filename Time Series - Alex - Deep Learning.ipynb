{
 "cells": [
  {
   "cell_type": "markdown",
   "metadata": {},
   "source": [
    "# Deep Learning for Time Series Store forecast \n",
    "* By Alex Dance https://www.linkedin.com/in/alex-dance/\n",
    "* This notebook is one of several notebooks for a project to improve store and product forecasts\n",
    "1.\tEDA – Exploratory Data Analysis – includes working with annual forecasts\n",
    "2.\tMain Modelling\n",
    "3.\tXG Boost modelling by Month\n",
    "4.\tWeighted average\n",
    "5.\tARIMA – Month and Other Modelling\n",
    "6.\tDeep Learning\n"
   ]
  },
  {
   "cell_type": "markdown",
   "metadata": {},
   "source": [
    "Useful is https://www.dataquest.io/blog/tutorial-time-series-analysis-with-pandas/"
   ]
  },
  {
   "cell_type": "code",
   "execution_count": 1,
   "metadata": {},
   "outputs": [],
   "source": [
    "import pandas as pd\n",
    "import numpy as np\n",
    "import matplotlib.pyplot as plt\n",
    "from datetime import datetime\n"
   ]
  },
  {
   "cell_type": "code",
   "execution_count": 2,
   "metadata": {},
   "outputs": [],
   "source": [
    "import tensorflow as tf\n",
    "from tensorflow import keras\n",
    "from pylab import rcParams\n"
   ]
  },
  {
   "cell_type": "code",
   "execution_count": 3,
   "metadata": {},
   "outputs": [],
   "source": [
    "class color:  # Testing to make the heading look a liitle more impressive\n",
    "   BOLD = '\\033[1m'"
   ]
  },
  {
   "cell_type": "code",
   "execution_count": 4,
   "metadata": {},
   "outputs": [],
   "source": [
    "from sklearn.metrics import mean_squared_error , mean_absolute_error"
   ]
  },
  {
   "cell_type": "code",
   "execution_count": 5,
   "metadata": {},
   "outputs": [
    {
     "data": {
      "text/html": [
       "<div>\n",
       "<style scoped>\n",
       "    .dataframe tbody tr th:only-of-type {\n",
       "        vertical-align: middle;\n",
       "    }\n",
       "\n",
       "    .dataframe tbody tr th {\n",
       "        vertical-align: top;\n",
       "    }\n",
       "\n",
       "    .dataframe thead th {\n",
       "        text-align: right;\n",
       "    }\n",
       "</style>\n",
       "<table border=\"1\" class=\"dataframe\">\n",
       "  <thead>\n",
       "    <tr style=\"text-align: right;\">\n",
       "      <th></th>\n",
       "      <th>date</th>\n",
       "      <th>store</th>\n",
       "      <th>item</th>\n",
       "      <th>sales</th>\n",
       "    </tr>\n",
       "  </thead>\n",
       "  <tbody>\n",
       "    <tr>\n",
       "      <th>0</th>\n",
       "      <td>2013-01-01</td>\n",
       "      <td>1</td>\n",
       "      <td>1</td>\n",
       "      <td>13</td>\n",
       "    </tr>\n",
       "    <tr>\n",
       "      <th>1</th>\n",
       "      <td>2013-01-02</td>\n",
       "      <td>1</td>\n",
       "      <td>1</td>\n",
       "      <td>11</td>\n",
       "    </tr>\n",
       "    <tr>\n",
       "      <th>2</th>\n",
       "      <td>2013-01-03</td>\n",
       "      <td>1</td>\n",
       "      <td>1</td>\n",
       "      <td>14</td>\n",
       "    </tr>\n",
       "    <tr>\n",
       "      <th>3</th>\n",
       "      <td>2013-01-04</td>\n",
       "      <td>1</td>\n",
       "      <td>1</td>\n",
       "      <td>13</td>\n",
       "    </tr>\n",
       "    <tr>\n",
       "      <th>4</th>\n",
       "      <td>2013-01-05</td>\n",
       "      <td>1</td>\n",
       "      <td>1</td>\n",
       "      <td>10</td>\n",
       "    </tr>\n",
       "  </tbody>\n",
       "</table>\n",
       "</div>"
      ],
      "text/plain": [
       "         date  store  item  sales\n",
       "0  2013-01-01      1     1     13\n",
       "1  2013-01-02      1     1     11\n",
       "2  2013-01-03      1     1     14\n",
       "3  2013-01-04      1     1     13\n",
       "4  2013-01-05      1     1     10"
      ]
     },
     "execution_count": 5,
     "metadata": {},
     "output_type": "execute_result"
    }
   ],
   "source": [
    "df = pd.read_csv(r'C:/Users/alexd/Alex Folder 1/Capstone - Store Forecast/train.csv')\n",
    "df.head()"
   ]
  },
  {
   "cell_type": "markdown",
   "metadata": {},
   "source": [
    "# Getting Data Ready"
   ]
  },
  {
   "cell_type": "code",
   "execution_count": 6,
   "metadata": {},
   "outputs": [],
   "source": [
    "df['date'] =  pd.to_datetime(df['date'])"
   ]
  },
  {
   "cell_type": "code",
   "execution_count": 7,
   "metadata": {},
   "outputs": [],
   "source": [
    "df = df.set_index('date')"
   ]
  },
  {
   "cell_type": "code",
   "execution_count": 8,
   "metadata": {},
   "outputs": [
    {
     "data": {
      "text/html": [
       "<div>\n",
       "<style scoped>\n",
       "    .dataframe tbody tr th:only-of-type {\n",
       "        vertical-align: middle;\n",
       "    }\n",
       "\n",
       "    .dataframe tbody tr th {\n",
       "        vertical-align: top;\n",
       "    }\n",
       "\n",
       "    .dataframe thead th {\n",
       "        text-align: right;\n",
       "    }\n",
       "</style>\n",
       "<table border=\"1\" class=\"dataframe\">\n",
       "  <thead>\n",
       "    <tr style=\"text-align: right;\">\n",
       "      <th></th>\n",
       "      <th>store</th>\n",
       "      <th>item</th>\n",
       "      <th>sales</th>\n",
       "    </tr>\n",
       "    <tr>\n",
       "      <th>date</th>\n",
       "      <th></th>\n",
       "      <th></th>\n",
       "      <th></th>\n",
       "    </tr>\n",
       "  </thead>\n",
       "  <tbody>\n",
       "    <tr>\n",
       "      <th>2013-01-01</th>\n",
       "      <td>1</td>\n",
       "      <td>1</td>\n",
       "      <td>13</td>\n",
       "    </tr>\n",
       "    <tr>\n",
       "      <th>2013-01-02</th>\n",
       "      <td>1</td>\n",
       "      <td>1</td>\n",
       "      <td>11</td>\n",
       "    </tr>\n",
       "    <tr>\n",
       "      <th>2013-01-03</th>\n",
       "      <td>1</td>\n",
       "      <td>1</td>\n",
       "      <td>14</td>\n",
       "    </tr>\n",
       "    <tr>\n",
       "      <th>2013-01-04</th>\n",
       "      <td>1</td>\n",
       "      <td>1</td>\n",
       "      <td>13</td>\n",
       "    </tr>\n",
       "    <tr>\n",
       "      <th>2013-01-05</th>\n",
       "      <td>1</td>\n",
       "      <td>1</td>\n",
       "      <td>10</td>\n",
       "    </tr>\n",
       "  </tbody>\n",
       "</table>\n",
       "</div>"
      ],
      "text/plain": [
       "            store  item  sales\n",
       "date                          \n",
       "2013-01-01      1     1     13\n",
       "2013-01-02      1     1     11\n",
       "2013-01-03      1     1     14\n",
       "2013-01-04      1     1     13\n",
       "2013-01-05      1     1     10"
      ]
     },
     "execution_count": 8,
     "metadata": {},
     "output_type": "execute_result"
    }
   ],
   "source": [
    "df.head()"
   ]
  },
  {
   "cell_type": "code",
   "execution_count": 9,
   "metadata": {},
   "outputs": [],
   "source": [
    "df_1_1 = df[(df.store==1) & (df.item==1)] "
   ]
  },
  {
   "cell_type": "code",
   "execution_count": 10,
   "metadata": {},
   "outputs": [],
   "source": [
    "Deep1_all = df_1_1.resample('D')['sales'].sum()"
   ]
  },
  {
   "cell_type": "code",
   "execution_count": 11,
   "metadata": {},
   "outputs": [],
   "source": [
    "#Deep1_all = df.resample('D')['sales'].sum()  # this is of doing the forecast on the total dataset by day"
   ]
  },
  {
   "cell_type": "code",
   "execution_count": 12,
   "metadata": {},
   "outputs": [
    {
     "data": {
      "text/plain": [
       "date\n",
       "2013-01-01    13\n",
       "2013-01-02    11\n",
       "2013-01-03    14\n",
       "2013-01-04    13\n",
       "2013-01-05    10\n",
       "Freq: D, Name: sales, dtype: int64"
      ]
     },
     "execution_count": 12,
     "metadata": {},
     "output_type": "execute_result"
    }
   ],
   "source": [
    "Deep1_all.head()"
   ]
  },
  {
   "cell_type": "markdown",
   "metadata": {},
   "source": [
    "# The next few lines are to ensure can match the index to the date so can compare the predictions with an actual date"
   ]
  },
  {
   "cell_type": "code",
   "execution_count": 13,
   "metadata": {},
   "outputs": [],
   "source": [
    "Deep1_all_With_index = Deep1_all.copy()"
   ]
  },
  {
   "cell_type": "code",
   "execution_count": 14,
   "metadata": {},
   "outputs": [],
   "source": [
    "Deep1_all_With_index =Deep1_all_With_index.reset_index()"
   ]
  },
  {
   "cell_type": "code",
   "execution_count": 15,
   "metadata": {},
   "outputs": [],
   "source": [
    "#Deep1_all_With_index.tail()"
   ]
  },
  {
   "cell_type": "code",
   "execution_count": 16,
   "metadata": {},
   "outputs": [
    {
     "data": {
      "text/html": [
       "<div>\n",
       "<style scoped>\n",
       "    .dataframe tbody tr th:only-of-type {\n",
       "        vertical-align: middle;\n",
       "    }\n",
       "\n",
       "    .dataframe tbody tr th {\n",
       "        vertical-align: top;\n",
       "    }\n",
       "\n",
       "    .dataframe thead th {\n",
       "        text-align: right;\n",
       "    }\n",
       "</style>\n",
       "<table border=\"1\" class=\"dataframe\">\n",
       "  <thead>\n",
       "    <tr style=\"text-align: right;\">\n",
       "      <th></th>\n",
       "      <th>date</th>\n",
       "      <th>sales</th>\n",
       "    </tr>\n",
       "  </thead>\n",
       "  <tbody>\n",
       "    <tr>\n",
       "      <th>0</th>\n",
       "      <td>2013-01-01</td>\n",
       "      <td>13</td>\n",
       "    </tr>\n",
       "    <tr>\n",
       "      <th>1</th>\n",
       "      <td>2013-01-02</td>\n",
       "      <td>11</td>\n",
       "    </tr>\n",
       "    <tr>\n",
       "      <th>2</th>\n",
       "      <td>2013-01-03</td>\n",
       "      <td>14</td>\n",
       "    </tr>\n",
       "    <tr>\n",
       "      <th>3</th>\n",
       "      <td>2013-01-04</td>\n",
       "      <td>13</td>\n",
       "    </tr>\n",
       "    <tr>\n",
       "      <th>4</th>\n",
       "      <td>2013-01-05</td>\n",
       "      <td>10</td>\n",
       "    </tr>\n",
       "  </tbody>\n",
       "</table>\n",
       "</div>"
      ],
      "text/plain": [
       "        date  sales\n",
       "0 2013-01-01     13\n",
       "1 2013-01-02     11\n",
       "2 2013-01-03     14\n",
       "3 2013-01-04     13\n",
       "4 2013-01-05     10"
      ]
     },
     "execution_count": 16,
     "metadata": {},
     "output_type": "execute_result"
    }
   ],
   "source": [
    "Deep1_all_With_index.head()"
   ]
  },
  {
   "cell_type": "code",
   "execution_count": 17,
   "metadata": {},
   "outputs": [],
   "source": [
    "Deep1 = Deep1_all_With_index.drop(['date'], axis = 1)"
   ]
  },
  {
   "cell_type": "code",
   "execution_count": 18,
   "metadata": {},
   "outputs": [],
   "source": [
    "Deep1['sales'] = Deep1['sales'].astype('float32')"
   ]
  },
  {
   "cell_type": "code",
   "execution_count": 19,
   "metadata": {},
   "outputs": [
    {
     "name": "stdout",
     "output_type": "stream",
     "text": [
      "<class 'pandas.core.frame.DataFrame'>\n",
      "RangeIndex: 1826 entries, 0 to 1825\n",
      "Data columns (total 1 columns):\n",
      " #   Column  Non-Null Count  Dtype  \n",
      "---  ------  --------------  -----  \n",
      " 0   sales   1826 non-null   float32\n",
      "dtypes: float32(1)\n",
      "memory usage: 7.3 KB\n"
     ]
    }
   ],
   "source": [
    "Deep1.info()"
   ]
  },
  {
   "cell_type": "code",
   "execution_count": 20,
   "metadata": {},
   "outputs": [],
   "source": [
    "values = Deep1.values"
   ]
  },
  {
   "cell_type": "code",
   "execution_count": 21,
   "metadata": {},
   "outputs": [
    {
     "name": "stdout",
     "output_type": "stream",
     "text": [
      "[[13.]\n",
      " [11.]\n",
      " [14.]\n",
      " ...\n",
      " [15.]\n",
      " [27.]\n",
      " [23.]]\n"
     ]
    }
   ],
   "source": [
    "print(values)"
   ]
  },
  {
   "cell_type": "code",
   "execution_count": 22,
   "metadata": {},
   "outputs": [],
   "source": [
    "values = values.astype('float32')"
   ]
  },
  {
   "cell_type": "code",
   "execution_count": 23,
   "metadata": {},
   "outputs": [
    {
     "data": {
      "text/plain": [
       "(1826, 1)"
      ]
     },
     "execution_count": 23,
     "metadata": {},
     "output_type": "execute_result"
    }
   ],
   "source": [
    "Deep1.shape"
   ]
  },
  {
   "cell_type": "code",
   "execution_count": 24,
   "metadata": {},
   "outputs": [
    {
     "name": "stdout",
     "output_type": "stream",
     "text": [
      "1450 376\n"
     ]
    }
   ],
   "source": [
    "train_size = int(len(Deep1) -376) # This is 366 days of the year + 10 days of extra data beforehand\n",
    "test_size = len(Deep1) - train_size\n",
    "train, test = Deep1.iloc[0:train_size], Deep1.iloc[train_size:len(Deep1)]\n",
    "print(len(train), len(test))"
   ]
  },
  {
   "cell_type": "code",
   "execution_count": 25,
   "metadata": {},
   "outputs": [
    {
     "name": "stdout",
     "output_type": "stream",
     "text": [
      "      sales\n",
      "1450   12.0\n",
      "1451   20.0\n",
      "1452   21.0\n",
      "1453   13.0\n",
      "1454   20.0\n",
      "...     ...\n",
      "1821   14.0\n",
      "1822   19.0\n",
      "1823   15.0\n",
      "1824   27.0\n",
      "1825   23.0\n",
      "\n",
      "[376 rows x 1 columns]\n"
     ]
    }
   ],
   "source": [
    "print(test)"
   ]
  },
  {
   "cell_type": "code",
   "execution_count": 26,
   "metadata": {},
   "outputs": [
    {
     "name": "stdout",
     "output_type": "stream",
     "text": [
      "      sales\n",
      "0      13.0\n",
      "1      11.0\n",
      "2      14.0\n",
      "3      13.0\n",
      "4      10.0\n",
      "...     ...\n",
      "1445   15.0\n",
      "1446   19.0\n",
      "1447   22.0\n",
      "1448   17.0\n",
      "1449   18.0\n",
      "\n",
      "[1450 rows x 1 columns]\n"
     ]
    }
   ],
   "source": [
    "print(train)"
   ]
  },
  {
   "cell_type": "code",
   "execution_count": 27,
   "metadata": {},
   "outputs": [],
   "source": [
    "#train_c['sales'] = float(train_c['sales'])"
   ]
  },
  {
   "cell_type": "code",
   "execution_count": 28,
   "metadata": {},
   "outputs": [
    {
     "data": {
      "text/html": [
       "<div>\n",
       "<style scoped>\n",
       "    .dataframe tbody tr th:only-of-type {\n",
       "        vertical-align: middle;\n",
       "    }\n",
       "\n",
       "    .dataframe tbody tr th {\n",
       "        vertical-align: top;\n",
       "    }\n",
       "\n",
       "    .dataframe thead th {\n",
       "        text-align: right;\n",
       "    }\n",
       "</style>\n",
       "<table border=\"1\" class=\"dataframe\">\n",
       "  <thead>\n",
       "    <tr style=\"text-align: right;\">\n",
       "      <th></th>\n",
       "      <th>sales</th>\n",
       "    </tr>\n",
       "  </thead>\n",
       "  <tbody>\n",
       "    <tr>\n",
       "      <th>0</th>\n",
       "      <td>13.0</td>\n",
       "    </tr>\n",
       "    <tr>\n",
       "      <th>1</th>\n",
       "      <td>11.0</td>\n",
       "    </tr>\n",
       "    <tr>\n",
       "      <th>2</th>\n",
       "      <td>14.0</td>\n",
       "    </tr>\n",
       "    <tr>\n",
       "      <th>3</th>\n",
       "      <td>13.0</td>\n",
       "    </tr>\n",
       "    <tr>\n",
       "      <th>4</th>\n",
       "      <td>10.0</td>\n",
       "    </tr>\n",
       "  </tbody>\n",
       "</table>\n",
       "</div>"
      ],
      "text/plain": [
       "   sales\n",
       "0   13.0\n",
       "1   11.0\n",
       "2   14.0\n",
       "3   13.0\n",
       "4   10.0"
      ]
     },
     "execution_count": 28,
     "metadata": {},
     "output_type": "execute_result"
    }
   ],
   "source": [
    "train.head()"
   ]
  },
  {
   "cell_type": "code",
   "execution_count": 29,
   "metadata": {},
   "outputs": [],
   "source": [
    "# One of the most difficult parts of Deep Learning modelling is to get the dataset in the right format \n",
    "# This function completes that proces\n",
    "\n",
    "def create_dataset(X, y, time_steps=1):\n",
    "    Xs, ys = [], []\n",
    "    for i in range(len(X) - time_steps):\n",
    "        v = X.iloc[i:(i + time_steps)].values\n",
    "        Xs.append(v)\n",
    "        ys.append(y.iloc[i + time_steps])\n",
    "        #print(Xs[-1], ys[-1])  \n",
    "    return np.array(Xs), np.array(ys)"
   ]
  },
  {
   "cell_type": "code",
   "execution_count": 30,
   "metadata": {},
   "outputs": [
    {
     "data": {
      "text/plain": [
       "(376, 1)"
      ]
     },
     "execution_count": 30,
     "metadata": {},
     "output_type": "execute_result"
    }
   ],
   "source": [
    "test.shape"
   ]
  },
  {
   "cell_type": "code",
   "execution_count": 31,
   "metadata": {},
   "outputs": [],
   "source": [
    "# These next few lines are about getting the data ready for modelling\n",
    "time_steps = 10\n",
    "\n",
    "# reshape to [samples, time_steps, n_features]\n",
    "X_train, y_train = create_dataset(train, train.sales, time_steps)\n",
    "\n",
    "#X_train_c, y_train_c = create_dataset(X_train_c_a, y_train_c_a, time_steps)\n",
    "X_test, y_test = create_dataset(test, test.sales, time_steps)\n",
    "\n"
   ]
  },
  {
   "cell_type": "code",
   "execution_count": 32,
   "metadata": {},
   "outputs": [
    {
     "name": "stdout",
     "output_type": "stream",
     "text": [
      "(1440, 10, 1) (1440,)\n"
     ]
    }
   ],
   "source": [
    "print(X_train.shape, y_train.shape)\n",
    "# Note the 3 dimensional shape"
   ]
  },
  {
   "cell_type": "code",
   "execution_count": 33,
   "metadata": {},
   "outputs": [
    {
     "data": {
      "text/plain": [
       "366"
      ]
     },
     "execution_count": 33,
     "metadata": {},
     "output_type": "execute_result"
    }
   ],
   "source": [
    "len(X_test)\n"
   ]
  },
  {
   "cell_type": "code",
   "execution_count": 34,
   "metadata": {},
   "outputs": [],
   "source": [
    "# Try2\n",
    "deep_model = keras.Sequential()\n",
    "deep_model.add(keras.layers.LSTM(\n",
    "  units=128,\n",
    "  input_shape=(X_train.shape[1], X_train.shape[2])\n",
    "))\n",
    "deep_model.add(keras.layers.Dense(units=2))\n",
    "deep_model.add(keras.layers.Dense(units=1))\n",
    "\n",
    "deep_model.compile(\n",
    "  loss='mse',\n",
    "  optimizer=keras.optimizers.Adam(0.001)) # was 0.001"
   ]
  },
  {
   "cell_type": "code",
   "execution_count": 35,
   "metadata": {},
   "outputs": [
    {
     "name": "stdout",
     "output_type": "stream",
     "text": [
      "Epoch 1/30\n",
      "81/81 [==============================] - 2s 21ms/step - loss: 73.9914 - val_loss: 37.2430\n",
      "Epoch 2/30\n",
      "81/81 [==============================] - 1s 12ms/step - loss: 44.1563 - val_loss: 36.7722\n",
      "Epoch 3/30\n",
      "81/81 [==============================] - 1s 10ms/step - loss: 42.1997 - val_loss: 35.8956\n",
      "Epoch 4/30\n",
      "81/81 [==============================] - 1s 11ms/step - loss: 39.7363 - val_loss: 34.0288\n",
      "Epoch 5/30\n",
      "81/81 [==============================] - 1s 10ms/step - loss: 37.6259 - val_loss: 32.2956\n",
      "Epoch 6/30\n",
      "81/81 [==============================] - 1s 11ms/step - loss: 35.5328 - val_loss: 32.2014\n",
      "Epoch 7/30\n",
      "81/81 [==============================] - 1s 10ms/step - loss: 33.1890 - val_loss: 30.7904\n",
      "Epoch 8/30\n",
      "81/81 [==============================] - 1s 10ms/step - loss: 32.0926 - val_loss: 30.3731\n",
      "Epoch 9/30\n",
      "81/81 [==============================] - 1s 10ms/step - loss: 31.1961 - val_loss: 31.1885\n",
      "Epoch 10/30\n",
      "81/81 [==============================] - 1s 10ms/step - loss: 29.7600 - val_loss: 31.0251\n",
      "Epoch 11/30\n",
      "81/81 [==============================] - 1s 10ms/step - loss: 29.0096 - val_loss: 31.0736\n",
      "Epoch 12/30\n",
      "81/81 [==============================] - 1s 11ms/step - loss: 28.9977 - val_loss: 30.3824\n",
      "Epoch 13/30\n",
      "81/81 [==============================] - 1s 11ms/step - loss: 29.9405 - val_loss: 30.4934\n",
      "Epoch 14/30\n",
      "81/81 [==============================] - 1s 11ms/step - loss: 28.2197 - val_loss: 30.2510\n",
      "Epoch 15/30\n",
      "81/81 [==============================] - 1s 10ms/step - loss: 29.0923 - val_loss: 30.2543\n",
      "Epoch 16/30\n",
      "81/81 [==============================] - 1s 10ms/step - loss: 28.1364 - val_loss: 29.7745\n",
      "Epoch 17/30\n",
      "81/81 [==============================] - 1s 11ms/step - loss: 28.1373 - val_loss: 29.9961\n",
      "Epoch 18/30\n",
      "81/81 [==============================] - 1s 10ms/step - loss: 27.9610 - val_loss: 30.1823\n",
      "Epoch 19/30\n",
      "81/81 [==============================] - 1s 10ms/step - loss: 27.6653 - val_loss: 30.0944\n",
      "Epoch 20/30\n",
      "81/81 [==============================] - 1s 10ms/step - loss: 27.6720 - val_loss: 30.3802\n",
      "Epoch 21/30\n",
      "81/81 [==============================] - 1s 11ms/step - loss: 27.3835 - val_loss: 30.3707\n",
      "Epoch 22/30\n",
      "81/81 [==============================] - 1s 13ms/step - loss: 27.2252 - val_loss: 30.4720\n",
      "Epoch 23/30\n",
      "81/81 [==============================] - 1s 11ms/step - loss: 27.0308 - val_loss: 30.6359\n",
      "Epoch 24/30\n",
      "81/81 [==============================] - 1s 11ms/step - loss: 26.8817 - val_loss: 30.8689\n",
      "Epoch 25/30\n",
      "81/81 [==============================] - 1s 10ms/step - loss: 26.7333 - val_loss: 31.5109\n",
      "Epoch 26/30\n",
      "81/81 [==============================] - 1s 9ms/step - loss: 26.6340 - val_loss: 31.2147\n",
      "Epoch 27/30\n",
      "81/81 [==============================] - 1s 9ms/step - loss: 26.4876 - val_loss: 31.3892\n",
      "Epoch 28/30\n",
      "81/81 [==============================] - 1s 8ms/step - loss: 26.1964 - val_loss: 31.6669\n",
      "Epoch 29/30\n",
      "81/81 [==============================] - 1s 9ms/step - loss: 26.1924 - val_loss: 31.9852\n",
      "Epoch 30/30\n",
      "81/81 [==============================] - 1s 9ms/step - loss: 26.0142 - val_loss: 32.2505\n"
     ]
    }
   ],
   "source": [
    "history = deep_model.fit(\n",
    "    X_train, y_train,\n",
    "    epochs=30,\n",
    "    batch_size=16,\n",
    "    validation_split=0.1,\n",
    "    verbose=1,\n",
    "    shuffle=False\n",
    ")"
   ]
  },
  {
   "cell_type": "code",
   "execution_count": 36,
   "metadata": {},
   "outputs": [
    {
     "name": "stdout",
     "output_type": "stream",
     "text": [
      "[ 9.  7. 10. ... 22. 17. 18.]\n"
     ]
    }
   ],
   "source": [
    "print(y_train)"
   ]
  },
  {
   "cell_type": "code",
   "execution_count": 37,
   "metadata": {},
   "outputs": [],
   "source": [
    "y_pred = deep_model.predict(X_test)"
   ]
  },
  {
   "cell_type": "markdown",
   "metadata": {},
   "source": [
    "# Now Looking at the data"
   ]
  },
  {
   "cell_type": "code",
   "execution_count": 38,
   "metadata": {},
   "outputs": [
    {
     "name": "stdout",
     "output_type": "stream",
     "text": [
      "[[17.06382  ]\n",
      " [16.9225   ]\n",
      " [16.880796 ]\n",
      " [14.827944 ]\n",
      " [14.081895 ]\n",
      " [16.627272 ]\n",
      " [16.968935 ]\n",
      " [16.75521  ]\n",
      " [16.365364 ]\n",
      " [16.56534  ]\n",
      " [15.412714 ]\n",
      " [14.43132  ]\n",
      " [14.993534 ]\n",
      " [16.932987 ]\n",
      " [13.557944 ]\n",
      " [15.553323 ]\n",
      " [18.028515 ]\n",
      " [15.372534 ]\n",
      " [14.71014  ]\n",
      " [14.088021 ]\n",
      " [13.897658 ]\n",
      " [15.7058735]\n",
      " [17.235998 ]\n",
      " [16.086601 ]\n",
      " [13.570253 ]\n",
      " [14.7005825]\n",
      " [14.552114 ]\n",
      " [15.800062 ]\n",
      " [13.529628 ]\n",
      " [15.259396 ]\n",
      " [15.703291 ]\n",
      " [13.752428 ]\n",
      " [15.194859 ]\n",
      " [14.28446  ]\n",
      " [14.551728 ]\n",
      " [16.48678  ]\n",
      " [19.104172 ]\n",
      " [17.153929 ]\n",
      " [17.12297  ]\n",
      " [16.04595  ]\n",
      " [17.33285  ]\n",
      " [20.11661  ]\n",
      " [22.218554 ]\n",
      " [20.45753  ]\n",
      " [16.811447 ]\n",
      " [14.325478 ]\n",
      " [15.799021 ]\n",
      " [17.18818  ]\n",
      " [15.07112  ]\n",
      " [16.48229  ]\n",
      " [17.734324 ]\n",
      " [15.815337 ]\n",
      " [13.049506 ]\n",
      " [15.275847 ]\n",
      " [13.384859 ]\n",
      " [16.375576 ]\n",
      " [17.11984  ]\n",
      " [15.345996 ]\n",
      " [15.940285 ]\n",
      " [14.51508  ]\n",
      " [16.47988  ]\n",
      " [17.482473 ]\n",
      " [17.824057 ]\n",
      " [18.540209 ]\n",
      " [18.784506 ]\n",
      " [17.230879 ]\n",
      " [16.361767 ]\n",
      " [16.27651  ]\n",
      " [18.228931 ]\n",
      " [17.978117 ]\n",
      " [16.055786 ]\n",
      " [17.166729 ]\n",
      " [15.863024 ]\n",
      " [14.993986 ]\n",
      " [17.733385 ]\n",
      " [18.113771 ]\n",
      " [19.005535 ]\n",
      " [17.805235 ]\n",
      " [19.181353 ]\n",
      " [18.69137  ]\n",
      " [19.485334 ]\n",
      " [18.879805 ]\n",
      " [20.116997 ]\n",
      " [18.396734 ]\n",
      " [19.555017 ]\n",
      " [20.378664 ]\n",
      " [16.405962 ]\n",
      " [16.97386  ]\n",
      " [17.61193  ]\n",
      " [16.240376 ]\n",
      " [18.080688 ]\n",
      " [17.31137  ]\n",
      " [18.456652 ]\n",
      " [19.199762 ]\n",
      " [16.49197  ]\n",
      " [16.931822 ]\n",
      " [18.830992 ]\n",
      " [18.556702 ]\n",
      " [21.402624 ]\n",
      " [21.14066  ]\n",
      " [19.609766 ]\n",
      " [20.796238 ]\n",
      " [21.432383 ]\n",
      " [23.196093 ]\n",
      " [24.014126 ]\n",
      " [21.003048 ]\n",
      " [19.908833 ]\n",
      " [20.706347 ]\n",
      " [19.47758  ]\n",
      " [19.486345 ]\n",
      " [20.71794  ]\n",
      " [19.315657 ]\n",
      " [21.345842 ]\n",
      " [22.538332 ]\n",
      " [18.255068 ]\n",
      " [19.362513 ]\n",
      " [21.00122  ]\n",
      " [24.11302  ]\n",
      " [24.042028 ]\n",
      " [21.220434 ]\n",
      " [21.668966 ]\n",
      " [21.490847 ]\n",
      " [23.312395 ]\n",
      " [23.882458 ]\n",
      " [27.059475 ]\n",
      " [27.781782 ]\n",
      " [27.416132 ]\n",
      " [24.163546 ]\n",
      " [21.221312 ]\n",
      " [23.068674 ]\n",
      " [25.570965 ]\n",
      " [24.828228 ]\n",
      " [27.697807 ]\n",
      " [28.126427 ]\n",
      " [27.890186 ]\n",
      " [26.73041  ]\n",
      " [24.349535 ]\n",
      " [20.469177 ]\n",
      " [19.885744 ]\n",
      " [24.31715  ]\n",
      " [26.295332 ]\n",
      " [26.177849 ]\n",
      " [24.164259 ]\n",
      " [25.180296 ]\n",
      " [24.796356 ]\n",
      " [27.864443 ]\n",
      " [28.087477 ]\n",
      " [27.060373 ]\n",
      " [24.121378 ]\n",
      " [22.016222 ]\n",
      " [22.106886 ]\n",
      " [25.704092 ]\n",
      " [25.682058 ]\n",
      " [27.821281 ]\n",
      " [28.09387  ]\n",
      " [25.815575 ]\n",
      " [23.462034 ]\n",
      " [21.704199 ]\n",
      " [22.822405 ]\n",
      " [27.57652  ]\n",
      " [28.015722 ]\n",
      " [27.208435 ]\n",
      " [25.427588 ]\n",
      " [24.952961 ]\n",
      " [26.583094 ]\n",
      " [27.647068 ]\n",
      " [26.804504 ]\n",
      " [26.150072 ]\n",
      " [28.074894 ]\n",
      " [26.82088  ]\n",
      " [26.520456 ]\n",
      " [27.945986 ]\n",
      " [28.278831 ]\n",
      " [28.28377  ]\n",
      " [28.28748  ]\n",
      " [28.309172 ]\n",
      " [28.018938 ]\n",
      " [26.692024 ]\n",
      " [24.523352 ]\n",
      " [25.246092 ]\n",
      " [26.149462 ]\n",
      " [27.934082 ]\n",
      " [28.165976 ]\n",
      " [27.861223 ]\n",
      " [27.073446 ]\n",
      " [28.06762  ]\n",
      " [28.26424  ]\n",
      " [28.232176 ]\n",
      " [27.997015 ]\n",
      " [27.720972 ]\n",
      " [26.13331  ]\n",
      " [22.363047 ]\n",
      " [23.508451 ]\n",
      " [27.34213  ]\n",
      " [28.063576 ]\n",
      " [28.11346  ]\n",
      " [26.951822 ]\n",
      " [26.391136 ]\n",
      " [25.70894  ]\n",
      " [27.739832 ]\n",
      " [28.166248 ]\n",
      " [28.173128 ]\n",
      " [27.450584 ]\n",
      " [28.166773 ]\n",
      " [27.010483 ]\n",
      " [25.8974   ]\n",
      " [27.865946 ]\n",
      " [28.091064 ]\n",
      " [28.221344 ]\n",
      " [27.63742  ]\n",
      " [28.250359 ]\n",
      " [27.961977 ]\n",
      " [26.842562 ]\n",
      " [25.883625 ]\n",
      " [27.747158 ]\n",
      " [27.736078 ]\n",
      " [27.646467 ]\n",
      " [26.922552 ]\n",
      " [24.563866 ]\n",
      " [22.467333 ]\n",
      " [21.636906 ]\n",
      " [22.143145 ]\n",
      " [26.45379  ]\n",
      " [27.822721 ]\n",
      " [27.989988 ]\n",
      " [26.076738 ]\n",
      " [24.611202 ]\n",
      " [28.066841 ]\n",
      " [27.912508 ]\n",
      " [28.158304 ]\n",
      " [28.077887 ]\n",
      " [27.56913  ]\n",
      " [27.433987 ]\n",
      " [25.26765  ]\n",
      " [21.99071  ]\n",
      " [24.044338 ]\n",
      " [27.004622 ]\n",
      " [27.29936  ]\n",
      " [26.849066 ]\n",
      " [25.050404 ]\n",
      " [24.112837 ]\n",
      " [26.4849   ]\n",
      " [25.50418  ]\n",
      " [23.92995  ]\n",
      " [27.87579  ]\n",
      " [26.392603 ]\n",
      " [24.4458   ]\n",
      " [21.143278 ]\n",
      " [19.97893  ]\n",
      " [24.511427 ]\n",
      " [27.750153 ]\n",
      " [27.55318  ]\n",
      " [25.007692 ]\n",
      " [21.580744 ]\n",
      " [19.966267 ]\n",
      " [21.742298 ]\n",
      " [25.668705 ]\n",
      " [26.291609 ]\n",
      " [27.663042 ]\n",
      " [26.858322 ]\n",
      " [24.195772 ]\n",
      " [20.226906 ]\n",
      " [20.830841 ]\n",
      " [19.488375 ]\n",
      " [23.03319  ]\n",
      " [26.811512 ]\n",
      " [27.032793 ]\n",
      " [25.461596 ]\n",
      " [23.631336 ]\n",
      " [21.236248 ]\n",
      " [21.197985 ]\n",
      " [23.879967 ]\n",
      " [27.736431 ]\n",
      " [25.830257 ]\n",
      " [22.119232 ]\n",
      " [19.325672 ]\n",
      " [18.254938 ]\n",
      " [22.615526 ]\n",
      " [23.948545 ]\n",
      " [26.334063 ]\n",
      " [24.208899 ]\n",
      " [19.151812 ]\n",
      " [16.689411 ]\n",
      " [15.016671 ]\n",
      " [17.26133  ]\n",
      " [16.977602 ]\n",
      " [19.085073 ]\n",
      " [20.056223 ]\n",
      " [19.139145 ]\n",
      " [17.95885  ]\n",
      " [19.233072 ]\n",
      " [18.175158 ]\n",
      " [19.367636 ]\n",
      " [22.999538 ]\n",
      " [25.116705 ]\n",
      " [24.32464  ]\n",
      " [20.83423  ]\n",
      " [20.073797 ]\n",
      " [19.907564 ]\n",
      " [22.403854 ]\n",
      " [23.423754 ]\n",
      " [26.615923 ]\n",
      " [25.18792  ]\n",
      " [22.118128 ]\n",
      " [22.758492 ]\n",
      " [23.364609 ]\n",
      " [23.523071 ]\n",
      " [21.22036  ]\n",
      " [22.661436 ]\n",
      " [24.627281 ]\n",
      " [23.231117 ]\n",
      " [21.67584  ]\n",
      " [19.940672 ]\n",
      " [19.473963 ]\n",
      " [21.299276 ]\n",
      " [24.391283 ]\n",
      " [21.801321 ]\n",
      " [20.004337 ]\n",
      " [20.991493 ]\n",
      " [17.755661 ]\n",
      " [19.270144 ]\n",
      " [20.3866   ]\n",
      " [23.224806 ]\n",
      " [24.197025 ]\n",
      " [21.751497 ]\n",
      " [20.698738 ]\n",
      " [21.521744 ]\n",
      " [22.897463 ]\n",
      " [27.714659 ]\n",
      " [27.911165 ]\n",
      " [26.699202 ]\n",
      " [25.62375  ]\n",
      " [25.056137 ]\n",
      " [23.962484 ]\n",
      " [24.28639  ]\n",
      " [23.328306 ]\n",
      " [24.311913 ]\n",
      " [18.185059 ]\n",
      " [17.309845 ]\n",
      " [14.752017 ]\n",
      " [18.501558 ]\n",
      " [16.55028  ]\n",
      " [17.59839  ]\n",
      " [17.633238 ]\n",
      " [19.330452 ]\n",
      " [16.295935 ]\n",
      " [17.63237  ]\n",
      " [17.11476  ]\n",
      " [17.141302 ]\n",
      " [17.0915   ]\n",
      " [20.430525 ]\n",
      " [17.815176 ]\n",
      " [18.293158 ]\n",
      " [16.572485 ]\n",
      " [14.084848 ]\n",
      " [15.021804 ]\n",
      " [14.221003 ]\n",
      " [12.923128 ]\n",
      " [15.820766 ]\n",
      " [15.864572 ]\n",
      " [13.249228 ]\n",
      " [13.903049 ]\n",
      " [13.979742 ]\n",
      " [14.199878 ]\n",
      " [14.46221  ]\n",
      " [18.06086  ]]\n"
     ]
    }
   ],
   "source": [
    "print(y_pred)"
   ]
  },
  {
   "cell_type": "code",
   "execution_count": 39,
   "metadata": {},
   "outputs": [
    {
     "data": {
      "text/plain": [
       "(366, 10, 1)"
      ]
     },
     "execution_count": 39,
     "metadata": {},
     "output_type": "execute_result"
    }
   ],
   "source": [
    "X_test.shape"
   ]
  },
  {
   "cell_type": "code",
   "execution_count": 40,
   "metadata": {},
   "outputs": [
    {
     "name": "stdout",
     "output_type": "stream",
     "text": [
      "[[[12.]\n",
      "  [20.]\n",
      "  [21.]\n",
      "  ...\n",
      "  [16.]\n",
      "  [21.]\n",
      "  [24.]]\n",
      "\n",
      " [[20.]\n",
      "  [21.]\n",
      "  [13.]\n",
      "  ...\n",
      "  [21.]\n",
      "  [24.]\n",
      "  [14.]]\n",
      "\n",
      " [[21.]\n",
      "  [13.]\n",
      "  [20.]\n",
      "  ...\n",
      "  [24.]\n",
      "  [14.]\n",
      "  [19.]]\n",
      "\n",
      " ...\n",
      "\n",
      " [[ 7.]\n",
      "  [16.]\n",
      "  [12.]\n",
      "  ...\n",
      "  [16.]\n",
      "  [14.]\n",
      "  [19.]]\n",
      "\n",
      " [[16.]\n",
      "  [12.]\n",
      "  [ 6.]\n",
      "  ...\n",
      "  [14.]\n",
      "  [19.]\n",
      "  [15.]]\n",
      "\n",
      " [[12.]\n",
      "  [ 6.]\n",
      "  [18.]\n",
      "  ...\n",
      "  [19.]\n",
      "  [15.]\n",
      "  [27.]]]\n"
     ]
    }
   ],
   "source": [
    "print(X_test)"
   ]
  },
  {
   "cell_type": "code",
   "execution_count": 41,
   "metadata": {},
   "outputs": [
    {
     "name": "stdout",
     "output_type": "stream",
     "text": [
      "[[17.06382  ]\n",
      " [16.9225   ]\n",
      " [16.880796 ]\n",
      " [14.827944 ]\n",
      " [14.081895 ]\n",
      " [16.627272 ]\n",
      " [16.968935 ]\n",
      " [16.75521  ]\n",
      " [16.365364 ]\n",
      " [16.56534  ]\n",
      " [15.412714 ]\n",
      " [14.43132  ]\n",
      " [14.993534 ]\n",
      " [16.932987 ]\n",
      " [13.557944 ]\n",
      " [15.553323 ]\n",
      " [18.028515 ]\n",
      " [15.372534 ]\n",
      " [14.71014  ]\n",
      " [14.088021 ]\n",
      " [13.897658 ]\n",
      " [15.7058735]\n",
      " [17.235998 ]\n",
      " [16.086601 ]\n",
      " [13.570253 ]\n",
      " [14.7005825]\n",
      " [14.552114 ]\n",
      " [15.800062 ]\n",
      " [13.529628 ]\n",
      " [15.259396 ]\n",
      " [15.703291 ]\n",
      " [13.752428 ]\n",
      " [15.194859 ]\n",
      " [14.28446  ]\n",
      " [14.551728 ]\n",
      " [16.48678  ]\n",
      " [19.104172 ]\n",
      " [17.153929 ]\n",
      " [17.12297  ]\n",
      " [16.04595  ]\n",
      " [17.33285  ]\n",
      " [20.11661  ]\n",
      " [22.218554 ]\n",
      " [20.45753  ]\n",
      " [16.811447 ]\n",
      " [14.325478 ]\n",
      " [15.799021 ]\n",
      " [17.18818  ]\n",
      " [15.07112  ]\n",
      " [16.48229  ]\n",
      " [17.734324 ]\n",
      " [15.815337 ]\n",
      " [13.049506 ]\n",
      " [15.275847 ]\n",
      " [13.384859 ]\n",
      " [16.375576 ]\n",
      " [17.11984  ]\n",
      " [15.345996 ]\n",
      " [15.940285 ]\n",
      " [14.51508  ]\n",
      " [16.47988  ]\n",
      " [17.482473 ]\n",
      " [17.824057 ]\n",
      " [18.540209 ]\n",
      " [18.784506 ]\n",
      " [17.230879 ]\n",
      " [16.361767 ]\n",
      " [16.27651  ]\n",
      " [18.228931 ]\n",
      " [17.978117 ]\n",
      " [16.055786 ]\n",
      " [17.166729 ]\n",
      " [15.863024 ]\n",
      " [14.993986 ]\n",
      " [17.733385 ]\n",
      " [18.113771 ]\n",
      " [19.005535 ]\n",
      " [17.805235 ]\n",
      " [19.181353 ]\n",
      " [18.69137  ]\n",
      " [19.485334 ]\n",
      " [18.879805 ]\n",
      " [20.116997 ]\n",
      " [18.396734 ]\n",
      " [19.555017 ]\n",
      " [20.378664 ]\n",
      " [16.405962 ]\n",
      " [16.97386  ]\n",
      " [17.61193  ]\n",
      " [16.240376 ]\n",
      " [18.080688 ]\n",
      " [17.31137  ]\n",
      " [18.456652 ]\n",
      " [19.199762 ]\n",
      " [16.49197  ]\n",
      " [16.931822 ]\n",
      " [18.830992 ]\n",
      " [18.556702 ]\n",
      " [21.402624 ]\n",
      " [21.14066  ]\n",
      " [19.609766 ]\n",
      " [20.796238 ]\n",
      " [21.432383 ]\n",
      " [23.196093 ]\n",
      " [24.014126 ]\n",
      " [21.003048 ]\n",
      " [19.908833 ]\n",
      " [20.706347 ]\n",
      " [19.47758  ]\n",
      " [19.486345 ]\n",
      " [20.71794  ]\n",
      " [19.315657 ]\n",
      " [21.345842 ]\n",
      " [22.538332 ]\n",
      " [18.255068 ]\n",
      " [19.362513 ]\n",
      " [21.00122  ]\n",
      " [24.11302  ]\n",
      " [24.042028 ]\n",
      " [21.220434 ]\n",
      " [21.668966 ]\n",
      " [21.490847 ]\n",
      " [23.312395 ]\n",
      " [23.882458 ]\n",
      " [27.059475 ]\n",
      " [27.781782 ]\n",
      " [27.416132 ]\n",
      " [24.163546 ]\n",
      " [21.221312 ]\n",
      " [23.068674 ]\n",
      " [25.570965 ]\n",
      " [24.828228 ]\n",
      " [27.697807 ]\n",
      " [28.126427 ]\n",
      " [27.890186 ]\n",
      " [26.73041  ]\n",
      " [24.349535 ]\n",
      " [20.469177 ]\n",
      " [19.885744 ]\n",
      " [24.31715  ]\n",
      " [26.295332 ]\n",
      " [26.177849 ]\n",
      " [24.164259 ]\n",
      " [25.180296 ]\n",
      " [24.796356 ]\n",
      " [27.864443 ]\n",
      " [28.087477 ]\n",
      " [27.060373 ]\n",
      " [24.121378 ]\n",
      " [22.016222 ]\n",
      " [22.106886 ]\n",
      " [25.704092 ]\n",
      " [25.682058 ]\n",
      " [27.821281 ]\n",
      " [28.09387  ]\n",
      " [25.815575 ]\n",
      " [23.462034 ]\n",
      " [21.704199 ]\n",
      " [22.822405 ]\n",
      " [27.57652  ]\n",
      " [28.015722 ]\n",
      " [27.208435 ]\n",
      " [25.427588 ]\n",
      " [24.952961 ]\n",
      " [26.583094 ]\n",
      " [27.647068 ]\n",
      " [26.804504 ]\n",
      " [26.150072 ]\n",
      " [28.074894 ]\n",
      " [26.82088  ]\n",
      " [26.520456 ]\n",
      " [27.945986 ]\n",
      " [28.278831 ]\n",
      " [28.28377  ]\n",
      " [28.28748  ]\n",
      " [28.309172 ]\n",
      " [28.018938 ]\n",
      " [26.692024 ]\n",
      " [24.523352 ]\n",
      " [25.246092 ]\n",
      " [26.149462 ]\n",
      " [27.934082 ]\n",
      " [28.165976 ]\n",
      " [27.861223 ]\n",
      " [27.073446 ]\n",
      " [28.06762  ]\n",
      " [28.26424  ]\n",
      " [28.232176 ]\n",
      " [27.997015 ]\n",
      " [27.720972 ]\n",
      " [26.13331  ]\n",
      " [22.363047 ]\n",
      " [23.508451 ]\n",
      " [27.34213  ]\n",
      " [28.063576 ]\n",
      " [28.11346  ]\n",
      " [26.951822 ]\n",
      " [26.391136 ]\n",
      " [25.70894  ]\n",
      " [27.739832 ]\n",
      " [28.166248 ]\n",
      " [28.173128 ]\n",
      " [27.450584 ]\n",
      " [28.166773 ]\n",
      " [27.010483 ]\n",
      " [25.8974   ]\n",
      " [27.865946 ]\n",
      " [28.091064 ]\n",
      " [28.221344 ]\n",
      " [27.63742  ]\n",
      " [28.250359 ]\n",
      " [27.961977 ]\n",
      " [26.842562 ]\n",
      " [25.883625 ]\n",
      " [27.747158 ]\n",
      " [27.736078 ]\n",
      " [27.646467 ]\n",
      " [26.922552 ]\n",
      " [24.563866 ]\n",
      " [22.467333 ]\n",
      " [21.636906 ]\n",
      " [22.143145 ]\n",
      " [26.45379  ]\n",
      " [27.822721 ]\n",
      " [27.989988 ]\n",
      " [26.076738 ]\n",
      " [24.611202 ]\n",
      " [28.066841 ]\n",
      " [27.912508 ]\n",
      " [28.158304 ]\n",
      " [28.077887 ]\n",
      " [27.56913  ]\n",
      " [27.433987 ]\n",
      " [25.26765  ]\n",
      " [21.99071  ]\n",
      " [24.044338 ]\n",
      " [27.004622 ]\n",
      " [27.29936  ]\n",
      " [26.849066 ]\n",
      " [25.050404 ]\n",
      " [24.112837 ]\n",
      " [26.4849   ]\n",
      " [25.50418  ]\n",
      " [23.92995  ]\n",
      " [27.87579  ]\n",
      " [26.392603 ]\n",
      " [24.4458   ]\n",
      " [21.143278 ]\n",
      " [19.97893  ]\n",
      " [24.511427 ]\n",
      " [27.750153 ]\n",
      " [27.55318  ]\n",
      " [25.007692 ]\n",
      " [21.580744 ]\n",
      " [19.966267 ]\n",
      " [21.742298 ]\n",
      " [25.668705 ]\n",
      " [26.291609 ]\n",
      " [27.663042 ]\n",
      " [26.858322 ]\n",
      " [24.195772 ]\n",
      " [20.226906 ]\n",
      " [20.830841 ]\n",
      " [19.488375 ]\n",
      " [23.03319  ]\n",
      " [26.811512 ]\n",
      " [27.032793 ]\n",
      " [25.461596 ]\n",
      " [23.631336 ]\n",
      " [21.236248 ]\n",
      " [21.197985 ]\n",
      " [23.879967 ]\n",
      " [27.736431 ]\n",
      " [25.830257 ]\n",
      " [22.119232 ]\n",
      " [19.325672 ]\n",
      " [18.254938 ]\n",
      " [22.615526 ]\n",
      " [23.948545 ]\n",
      " [26.334063 ]\n",
      " [24.208899 ]\n",
      " [19.151812 ]\n",
      " [16.689411 ]\n",
      " [15.016671 ]\n",
      " [17.26133  ]\n",
      " [16.977602 ]\n",
      " [19.085073 ]\n",
      " [20.056223 ]\n",
      " [19.139145 ]\n",
      " [17.95885  ]\n",
      " [19.233072 ]\n",
      " [18.175158 ]\n",
      " [19.367636 ]\n",
      " [22.999538 ]\n",
      " [25.116705 ]\n",
      " [24.32464  ]\n",
      " [20.83423  ]\n",
      " [20.073797 ]\n",
      " [19.907564 ]\n",
      " [22.403854 ]\n",
      " [23.423754 ]\n",
      " [26.615923 ]\n",
      " [25.18792  ]\n",
      " [22.118128 ]\n",
      " [22.758492 ]\n",
      " [23.364609 ]\n",
      " [23.523071 ]\n",
      " [21.22036  ]\n",
      " [22.661436 ]\n",
      " [24.627281 ]\n",
      " [23.231117 ]\n",
      " [21.67584  ]\n",
      " [19.940672 ]\n",
      " [19.473963 ]\n",
      " [21.299276 ]\n",
      " [24.391283 ]\n",
      " [21.801321 ]\n",
      " [20.004337 ]\n",
      " [20.991493 ]\n",
      " [17.755661 ]\n",
      " [19.270144 ]\n",
      " [20.3866   ]\n",
      " [23.224806 ]\n",
      " [24.197025 ]\n",
      " [21.751497 ]\n",
      " [20.698738 ]\n",
      " [21.521744 ]\n",
      " [22.897463 ]\n",
      " [27.714659 ]\n",
      " [27.911165 ]\n",
      " [26.699202 ]\n",
      " [25.62375  ]\n",
      " [25.056137 ]\n",
      " [23.962484 ]\n",
      " [24.28639  ]\n",
      " [23.328306 ]\n",
      " [24.311913 ]\n",
      " [18.185059 ]\n",
      " [17.309845 ]\n",
      " [14.752017 ]\n",
      " [18.501558 ]\n",
      " [16.55028  ]\n",
      " [17.59839  ]\n",
      " [17.633238 ]\n",
      " [19.330452 ]\n",
      " [16.295935 ]\n",
      " [17.63237  ]\n",
      " [17.11476  ]\n",
      " [17.141302 ]\n",
      " [17.0915   ]\n",
      " [20.430525 ]\n",
      " [17.815176 ]\n",
      " [18.293158 ]\n",
      " [16.572485 ]\n",
      " [14.084848 ]\n",
      " [15.021804 ]\n",
      " [14.221003 ]\n",
      " [12.923128 ]\n",
      " [15.820766 ]\n",
      " [15.864572 ]\n",
      " [13.249228 ]\n",
      " [13.903049 ]\n",
      " [13.979742 ]\n",
      " [14.199878 ]\n",
      " [14.46221  ]\n",
      " [18.06086  ]]\n"
     ]
    }
   ],
   "source": [
    "print(y_pred)"
   ]
  },
  {
   "cell_type": "code",
   "execution_count": 42,
   "metadata": {},
   "outputs": [
    {
     "name": "stdout",
     "output_type": "stream",
     "text": [
      "[[[12.]\n",
      "  [20.]\n",
      "  [21.]\n",
      "  ...\n",
      "  [16.]\n",
      "  [21.]\n",
      "  [24.]]\n",
      "\n",
      " [[20.]\n",
      "  [21.]\n",
      "  [13.]\n",
      "  ...\n",
      "  [21.]\n",
      "  [24.]\n",
      "  [14.]]\n",
      "\n",
      " [[21.]\n",
      "  [13.]\n",
      "  [20.]\n",
      "  ...\n",
      "  [24.]\n",
      "  [14.]\n",
      "  [19.]]\n",
      "\n",
      " ...\n",
      "\n",
      " [[ 7.]\n",
      "  [16.]\n",
      "  [12.]\n",
      "  ...\n",
      "  [16.]\n",
      "  [14.]\n",
      "  [19.]]\n",
      "\n",
      " [[16.]\n",
      "  [12.]\n",
      "  [ 6.]\n",
      "  ...\n",
      "  [14.]\n",
      "  [19.]\n",
      "  [15.]]\n",
      "\n",
      " [[12.]\n",
      "  [ 6.]\n",
      "  [18.]\n",
      "  ...\n",
      "  [19.]\n",
      "  [15.]\n",
      "  [27.]]]\n"
     ]
    }
   ],
   "source": [
    "print(X_test)"
   ]
  },
  {
   "cell_type": "code",
   "execution_count": 43,
   "metadata": {},
   "outputs": [],
   "source": [
    "Results =[]"
   ]
  },
  {
   "cell_type": "code",
   "execution_count": 44,
   "metadata": {},
   "outputs": [],
   "source": [
    "Results = pd.DataFrame( columns=['sales','pred'])"
   ]
  },
  {
   "cell_type": "code",
   "execution_count": 45,
   "metadata": {},
   "outputs": [],
   "source": [
    "Results['sales'] = test['sales']"
   ]
  },
  {
   "cell_type": "code",
   "execution_count": 46,
   "metadata": {},
   "outputs": [
    {
     "data": {
      "text/html": [
       "<div>\n",
       "<style scoped>\n",
       "    .dataframe tbody tr th:only-of-type {\n",
       "        vertical-align: middle;\n",
       "    }\n",
       "\n",
       "    .dataframe tbody tr th {\n",
       "        vertical-align: top;\n",
       "    }\n",
       "\n",
       "    .dataframe thead th {\n",
       "        text-align: right;\n",
       "    }\n",
       "</style>\n",
       "<table border=\"1\" class=\"dataframe\">\n",
       "  <thead>\n",
       "    <tr style=\"text-align: right;\">\n",
       "      <th></th>\n",
       "      <th>sales</th>\n",
       "      <th>pred</th>\n",
       "    </tr>\n",
       "  </thead>\n",
       "  <tbody>\n",
       "    <tr>\n",
       "      <th>1450</th>\n",
       "      <td>12.0</td>\n",
       "      <td>NaN</td>\n",
       "    </tr>\n",
       "    <tr>\n",
       "      <th>1451</th>\n",
       "      <td>20.0</td>\n",
       "      <td>NaN</td>\n",
       "    </tr>\n",
       "    <tr>\n",
       "      <th>1452</th>\n",
       "      <td>21.0</td>\n",
       "      <td>NaN</td>\n",
       "    </tr>\n",
       "    <tr>\n",
       "      <th>1453</th>\n",
       "      <td>13.0</td>\n",
       "      <td>NaN</td>\n",
       "    </tr>\n",
       "    <tr>\n",
       "      <th>1454</th>\n",
       "      <td>20.0</td>\n",
       "      <td>NaN</td>\n",
       "    </tr>\n",
       "  </tbody>\n",
       "</table>\n",
       "</div>"
      ],
      "text/plain": [
       "      sales pred\n",
       "1450   12.0  NaN\n",
       "1451   20.0  NaN\n",
       "1452   21.0  NaN\n",
       "1453   13.0  NaN\n",
       "1454   20.0  NaN"
      ]
     },
     "execution_count": 46,
     "metadata": {},
     "output_type": "execute_result"
    }
   ],
   "source": [
    "Results.head()"
   ]
  },
  {
   "cell_type": "markdown",
   "metadata": {},
   "source": [
    "# Getting the data ready to compare and ensuring can see by actual date rather then an index"
   ]
  },
  {
   "cell_type": "code",
   "execution_count": 47,
   "metadata": {},
   "outputs": [],
   "source": [
    "y_pred_df = pd.DataFrame(y_pred, columns=['pred'])"
   ]
  },
  {
   "cell_type": "code",
   "execution_count": 48,
   "metadata": {},
   "outputs": [],
   "source": [
    "Results = Results[10:]  # As the Deep Learning process added the forst 10 dates I had to drop the first 10 rows, so the first result was 1 Jan 2017"
   ]
  },
  {
   "cell_type": "code",
   "execution_count": 49,
   "metadata": {},
   "outputs": [
    {
     "data": {
      "text/html": [
       "<div>\n",
       "<style scoped>\n",
       "    .dataframe tbody tr th:only-of-type {\n",
       "        vertical-align: middle;\n",
       "    }\n",
       "\n",
       "    .dataframe tbody tr th {\n",
       "        vertical-align: top;\n",
       "    }\n",
       "\n",
       "    .dataframe thead th {\n",
       "        text-align: right;\n",
       "    }\n",
       "</style>\n",
       "<table border=\"1\" class=\"dataframe\">\n",
       "  <thead>\n",
       "    <tr style=\"text-align: right;\">\n",
       "      <th></th>\n",
       "      <th>pred</th>\n",
       "    </tr>\n",
       "  </thead>\n",
       "  <tbody>\n",
       "    <tr>\n",
       "      <th>0</th>\n",
       "      <td>17.063820</td>\n",
       "    </tr>\n",
       "    <tr>\n",
       "      <th>1</th>\n",
       "      <td>16.922501</td>\n",
       "    </tr>\n",
       "    <tr>\n",
       "      <th>2</th>\n",
       "      <td>16.880796</td>\n",
       "    </tr>\n",
       "    <tr>\n",
       "      <th>3</th>\n",
       "      <td>14.827944</td>\n",
       "    </tr>\n",
       "    <tr>\n",
       "      <th>4</th>\n",
       "      <td>14.081895</td>\n",
       "    </tr>\n",
       "  </tbody>\n",
       "</table>\n",
       "</div>"
      ],
      "text/plain": [
       "        pred\n",
       "0  17.063820\n",
       "1  16.922501\n",
       "2  16.880796\n",
       "3  14.827944\n",
       "4  14.081895"
      ]
     },
     "execution_count": 49,
     "metadata": {},
     "output_type": "execute_result"
    }
   ],
   "source": [
    "y_pred_df.head()"
   ]
  },
  {
   "cell_type": "code",
   "execution_count": 50,
   "metadata": {},
   "outputs": [],
   "source": [
    "Results= Results.reset_index() "
   ]
  },
  {
   "cell_type": "code",
   "execution_count": 51,
   "metadata": {},
   "outputs": [
    {
     "data": {
      "text/html": [
       "<div>\n",
       "<style scoped>\n",
       "    .dataframe tbody tr th:only-of-type {\n",
       "        vertical-align: middle;\n",
       "    }\n",
       "\n",
       "    .dataframe tbody tr th {\n",
       "        vertical-align: top;\n",
       "    }\n",
       "\n",
       "    .dataframe thead th {\n",
       "        text-align: right;\n",
       "    }\n",
       "</style>\n",
       "<table border=\"1\" class=\"dataframe\">\n",
       "  <thead>\n",
       "    <tr style=\"text-align: right;\">\n",
       "      <th></th>\n",
       "      <th>index</th>\n",
       "      <th>sales</th>\n",
       "      <th>pred</th>\n",
       "    </tr>\n",
       "  </thead>\n",
       "  <tbody>\n",
       "    <tr>\n",
       "      <th>0</th>\n",
       "      <td>1460</td>\n",
       "      <td>14.0</td>\n",
       "      <td>NaN</td>\n",
       "    </tr>\n",
       "    <tr>\n",
       "      <th>1</th>\n",
       "      <td>1461</td>\n",
       "      <td>19.0</td>\n",
       "      <td>NaN</td>\n",
       "    </tr>\n",
       "    <tr>\n",
       "      <th>2</th>\n",
       "      <td>1462</td>\n",
       "      <td>15.0</td>\n",
       "      <td>NaN</td>\n",
       "    </tr>\n",
       "    <tr>\n",
       "      <th>3</th>\n",
       "      <td>1463</td>\n",
       "      <td>10.0</td>\n",
       "      <td>NaN</td>\n",
       "    </tr>\n",
       "    <tr>\n",
       "      <th>4</th>\n",
       "      <td>1464</td>\n",
       "      <td>16.0</td>\n",
       "      <td>NaN</td>\n",
       "    </tr>\n",
       "    <tr>\n",
       "      <th>5</th>\n",
       "      <td>1465</td>\n",
       "      <td>14.0</td>\n",
       "      <td>NaN</td>\n",
       "    </tr>\n",
       "    <tr>\n",
       "      <th>6</th>\n",
       "      <td>1466</td>\n",
       "      <td>24.0</td>\n",
       "      <td>NaN</td>\n",
       "    </tr>\n",
       "    <tr>\n",
       "      <th>7</th>\n",
       "      <td>1467</td>\n",
       "      <td>14.0</td>\n",
       "      <td>NaN</td>\n",
       "    </tr>\n",
       "    <tr>\n",
       "      <th>8</th>\n",
       "      <td>1468</td>\n",
       "      <td>20.0</td>\n",
       "      <td>NaN</td>\n",
       "    </tr>\n",
       "    <tr>\n",
       "      <th>9</th>\n",
       "      <td>1469</td>\n",
       "      <td>18.0</td>\n",
       "      <td>NaN</td>\n",
       "    </tr>\n",
       "  </tbody>\n",
       "</table>\n",
       "</div>"
      ],
      "text/plain": [
       "   index  sales pred\n",
       "0   1460   14.0  NaN\n",
       "1   1461   19.0  NaN\n",
       "2   1462   15.0  NaN\n",
       "3   1463   10.0  NaN\n",
       "4   1464   16.0  NaN\n",
       "5   1465   14.0  NaN\n",
       "6   1466   24.0  NaN\n",
       "7   1467   14.0  NaN\n",
       "8   1468   20.0  NaN\n",
       "9   1469   18.0  NaN"
      ]
     },
     "execution_count": 51,
     "metadata": {},
     "output_type": "execute_result"
    }
   ],
   "source": [
    "Results.head(10)"
   ]
  },
  {
   "cell_type": "code",
   "execution_count": 52,
   "metadata": {},
   "outputs": [],
   "source": [
    "#Results_c ['pred'] = model_c.predict(X_test_c)\n",
    "Results ['pred'] = y_pred_df['pred']  "
   ]
  },
  {
   "cell_type": "code",
   "execution_count": null,
   "metadata": {},
   "outputs": [],
   "source": []
  },
  {
   "cell_type": "code",
   "execution_count": 53,
   "metadata": {},
   "outputs": [],
   "source": [
    "Results = Results.set_index('index')"
   ]
  },
  {
   "cell_type": "code",
   "execution_count": 54,
   "metadata": {},
   "outputs": [],
   "source": [
    "Results =Results.drop (['sales'],axis=1)"
   ]
  },
  {
   "cell_type": "code",
   "execution_count": 55,
   "metadata": {},
   "outputs": [],
   "source": [
    "New_Results = pd.concat([Results, Deep1_all_With_index], axis=1)"
   ]
  },
  {
   "cell_type": "code",
   "execution_count": 56,
   "metadata": {},
   "outputs": [
    {
     "data": {
      "text/html": [
       "<div>\n",
       "<style scoped>\n",
       "    .dataframe tbody tr th:only-of-type {\n",
       "        vertical-align: middle;\n",
       "    }\n",
       "\n",
       "    .dataframe tbody tr th {\n",
       "        vertical-align: top;\n",
       "    }\n",
       "\n",
       "    .dataframe thead th {\n",
       "        text-align: right;\n",
       "    }\n",
       "</style>\n",
       "<table border=\"1\" class=\"dataframe\">\n",
       "  <thead>\n",
       "    <tr style=\"text-align: right;\">\n",
       "      <th></th>\n",
       "      <th>pred</th>\n",
       "      <th>date</th>\n",
       "      <th>sales</th>\n",
       "    </tr>\n",
       "  </thead>\n",
       "  <tbody>\n",
       "    <tr>\n",
       "      <th>0</th>\n",
       "      <td>NaN</td>\n",
       "      <td>2013-01-01</td>\n",
       "      <td>13</td>\n",
       "    </tr>\n",
       "    <tr>\n",
       "      <th>1</th>\n",
       "      <td>NaN</td>\n",
       "      <td>2013-01-02</td>\n",
       "      <td>11</td>\n",
       "    </tr>\n",
       "    <tr>\n",
       "      <th>2</th>\n",
       "      <td>NaN</td>\n",
       "      <td>2013-01-03</td>\n",
       "      <td>14</td>\n",
       "    </tr>\n",
       "    <tr>\n",
       "      <th>3</th>\n",
       "      <td>NaN</td>\n",
       "      <td>2013-01-04</td>\n",
       "      <td>13</td>\n",
       "    </tr>\n",
       "    <tr>\n",
       "      <th>4</th>\n",
       "      <td>NaN</td>\n",
       "      <td>2013-01-05</td>\n",
       "      <td>10</td>\n",
       "    </tr>\n",
       "  </tbody>\n",
       "</table>\n",
       "</div>"
      ],
      "text/plain": [
       "   pred       date  sales\n",
       "0   NaN 2013-01-01     13\n",
       "1   NaN 2013-01-02     11\n",
       "2   NaN 2013-01-03     14\n",
       "3   NaN 2013-01-04     13\n",
       "4   NaN 2013-01-05     10"
      ]
     },
     "execution_count": 56,
     "metadata": {},
     "output_type": "execute_result"
    }
   ],
   "source": [
    "New_Results.head() ##### GOOD"
   ]
  },
  {
   "cell_type": "code",
   "execution_count": 57,
   "metadata": {},
   "outputs": [
    {
     "data": {
      "text/html": [
       "<div>\n",
       "<style scoped>\n",
       "    .dataframe tbody tr th:only-of-type {\n",
       "        vertical-align: middle;\n",
       "    }\n",
       "\n",
       "    .dataframe tbody tr th {\n",
       "        vertical-align: top;\n",
       "    }\n",
       "\n",
       "    .dataframe thead th {\n",
       "        text-align: right;\n",
       "    }\n",
       "</style>\n",
       "<table border=\"1\" class=\"dataframe\">\n",
       "  <thead>\n",
       "    <tr style=\"text-align: right;\">\n",
       "      <th></th>\n",
       "      <th>pred</th>\n",
       "      <th>date</th>\n",
       "      <th>sales</th>\n",
       "    </tr>\n",
       "  </thead>\n",
       "  <tbody>\n",
       "    <tr>\n",
       "      <th>1821</th>\n",
       "      <td>13.903049</td>\n",
       "      <td>2017-12-27</td>\n",
       "      <td>14</td>\n",
       "    </tr>\n",
       "    <tr>\n",
       "      <th>1822</th>\n",
       "      <td>13.979742</td>\n",
       "      <td>2017-12-28</td>\n",
       "      <td>19</td>\n",
       "    </tr>\n",
       "    <tr>\n",
       "      <th>1823</th>\n",
       "      <td>14.199878</td>\n",
       "      <td>2017-12-29</td>\n",
       "      <td>15</td>\n",
       "    </tr>\n",
       "    <tr>\n",
       "      <th>1824</th>\n",
       "      <td>14.462210</td>\n",
       "      <td>2017-12-30</td>\n",
       "      <td>27</td>\n",
       "    </tr>\n",
       "    <tr>\n",
       "      <th>1825</th>\n",
       "      <td>18.060860</td>\n",
       "      <td>2017-12-31</td>\n",
       "      <td>23</td>\n",
       "    </tr>\n",
       "  </tbody>\n",
       "</table>\n",
       "</div>"
      ],
      "text/plain": [
       "           pred       date  sales\n",
       "1821  13.903049 2017-12-27     14\n",
       "1822  13.979742 2017-12-28     19\n",
       "1823  14.199878 2017-12-29     15\n",
       "1824  14.462210 2017-12-30     27\n",
       "1825  18.060860 2017-12-31     23"
      ]
     },
     "execution_count": 57,
     "metadata": {},
     "output_type": "execute_result"
    }
   ],
   "source": [
    "New_Results.tail() ##### GOOD"
   ]
  },
  {
   "cell_type": "code",
   "execution_count": null,
   "metadata": {},
   "outputs": [],
   "source": []
  },
  {
   "cell_type": "code",
   "execution_count": 58,
   "metadata": {},
   "outputs": [
    {
     "data": {
      "text/html": [
       "<div>\n",
       "<style scoped>\n",
       "    .dataframe tbody tr th:only-of-type {\n",
       "        vertical-align: middle;\n",
       "    }\n",
       "\n",
       "    .dataframe tbody tr th {\n",
       "        vertical-align: top;\n",
       "    }\n",
       "\n",
       "    .dataframe thead th {\n",
       "        text-align: right;\n",
       "    }\n",
       "</style>\n",
       "<table border=\"1\" class=\"dataframe\">\n",
       "  <thead>\n",
       "    <tr style=\"text-align: right;\">\n",
       "      <th></th>\n",
       "      <th>pred</th>\n",
       "      <th>date</th>\n",
       "      <th>sales</th>\n",
       "    </tr>\n",
       "  </thead>\n",
       "  <tbody>\n",
       "    <tr>\n",
       "      <th>1821</th>\n",
       "      <td>13.903049</td>\n",
       "      <td>2017-12-27</td>\n",
       "      <td>14</td>\n",
       "    </tr>\n",
       "    <tr>\n",
       "      <th>1822</th>\n",
       "      <td>13.979742</td>\n",
       "      <td>2017-12-28</td>\n",
       "      <td>19</td>\n",
       "    </tr>\n",
       "    <tr>\n",
       "      <th>1823</th>\n",
       "      <td>14.199878</td>\n",
       "      <td>2017-12-29</td>\n",
       "      <td>15</td>\n",
       "    </tr>\n",
       "    <tr>\n",
       "      <th>1824</th>\n",
       "      <td>14.462210</td>\n",
       "      <td>2017-12-30</td>\n",
       "      <td>27</td>\n",
       "    </tr>\n",
       "    <tr>\n",
       "      <th>1825</th>\n",
       "      <td>18.060860</td>\n",
       "      <td>2017-12-31</td>\n",
       "      <td>23</td>\n",
       "    </tr>\n",
       "  </tbody>\n",
       "</table>\n",
       "</div>"
      ],
      "text/plain": [
       "           pred       date  sales\n",
       "1821  13.903049 2017-12-27     14\n",
       "1822  13.979742 2017-12-28     19\n",
       "1823  14.199878 2017-12-29     15\n",
       "1824  14.462210 2017-12-30     27\n",
       "1825  18.060860 2017-12-31     23"
      ]
     },
     "execution_count": 58,
     "metadata": {},
     "output_type": "execute_result"
    }
   ],
   "source": [
    "New_Results.tail()"
   ]
  },
  {
   "cell_type": "code",
   "execution_count": 59,
   "metadata": {},
   "outputs": [],
   "source": [
    "Results_with_date_2017 = New_Results[(New_Results.date>'2016-12-31')]"
   ]
  },
  {
   "cell_type": "code",
   "execution_count": 60,
   "metadata": {},
   "outputs": [
    {
     "data": {
      "text/html": [
       "<div>\n",
       "<style scoped>\n",
       "    .dataframe tbody tr th:only-of-type {\n",
       "        vertical-align: middle;\n",
       "    }\n",
       "\n",
       "    .dataframe tbody tr th {\n",
       "        vertical-align: top;\n",
       "    }\n",
       "\n",
       "    .dataframe thead th {\n",
       "        text-align: right;\n",
       "    }\n",
       "</style>\n",
       "<table border=\"1\" class=\"dataframe\">\n",
       "  <thead>\n",
       "    <tr style=\"text-align: right;\">\n",
       "      <th></th>\n",
       "      <th>pred</th>\n",
       "      <th>date</th>\n",
       "      <th>sales</th>\n",
       "    </tr>\n",
       "  </thead>\n",
       "  <tbody>\n",
       "    <tr>\n",
       "      <th>1461</th>\n",
       "      <td>16.922501</td>\n",
       "      <td>2017-01-01</td>\n",
       "      <td>19</td>\n",
       "    </tr>\n",
       "    <tr>\n",
       "      <th>1462</th>\n",
       "      <td>16.880796</td>\n",
       "      <td>2017-01-02</td>\n",
       "      <td>15</td>\n",
       "    </tr>\n",
       "    <tr>\n",
       "      <th>1463</th>\n",
       "      <td>14.827944</td>\n",
       "      <td>2017-01-03</td>\n",
       "      <td>10</td>\n",
       "    </tr>\n",
       "    <tr>\n",
       "      <th>1464</th>\n",
       "      <td>14.081895</td>\n",
       "      <td>2017-01-04</td>\n",
       "      <td>16</td>\n",
       "    </tr>\n",
       "    <tr>\n",
       "      <th>1465</th>\n",
       "      <td>16.627272</td>\n",
       "      <td>2017-01-05</td>\n",
       "      <td>14</td>\n",
       "    </tr>\n",
       "  </tbody>\n",
       "</table>\n",
       "</div>"
      ],
      "text/plain": [
       "           pred       date  sales\n",
       "1461  16.922501 2017-01-01     19\n",
       "1462  16.880796 2017-01-02     15\n",
       "1463  14.827944 2017-01-03     10\n",
       "1464  14.081895 2017-01-04     16\n",
       "1465  16.627272 2017-01-05     14"
      ]
     },
     "execution_count": 60,
     "metadata": {},
     "output_type": "execute_result"
    }
   ],
   "source": [
    "Results_with_date_2017.head()"
   ]
  },
  {
   "cell_type": "code",
   "execution_count": 61,
   "metadata": {},
   "outputs": [
    {
     "name": "stdout",
     "output_type": "stream",
     "text": [
      "4.481894801414176\n"
     ]
    }
   ],
   "source": [
    "RMSE_Deep  = np.mean(np.sqrt((Results_with_date_2017['pred'] - Results_with_date_2017['sales']) ** 2)) \n",
    "print(RMSE_Deep)"
   ]
  },
  {
   "cell_type": "code",
   "execution_count": 62,
   "metadata": {},
   "outputs": [],
   "source": [
    "# Note this compares to 4.009 from XG boost for the same data period"
   ]
  },
  {
   "cell_type": "markdown",
   "metadata": {},
   "source": [
    "# Plotting"
   ]
  },
  {
   "cell_type": "code",
   "execution_count": 63,
   "metadata": {},
   "outputs": [
    {
     "data": {
      "image/png": "[encoded data removed]",
      "text/plain": [
       "<Figure size 1080x360 with 1 Axes>"
      ]
     },
     "metadata": {
      "needs_background": "light"
     },
     "output_type": "display_data"
    }
   ],
   "source": [
    "_ = Results_with_date_2017[['sales','pred']].plot(figsize=(15, 5))"
   ]
  },
  {
   "cell_type": "code",
   "execution_count": 65,
   "metadata": {},
   "outputs": [
    {
     "name": "stderr",
     "output_type": "stream",
     "text": [
      "C:\\Users\\alexd\\anaconda3\\lib\\site-packages\\ipykernel_launcher.py:1: UserWarning: Boolean Series key will be reindexed to match DataFrame index.\n",
      "  \"\"\"Entry point for launching an IPython kernel.\n"
     ]
    }
   ],
   "source": [
    "Results_with_date_Jan_2017 =Results_with_date_2017[(New_Results.date<'2017-02-01')]"
   ]
  },
  {
   "cell_type": "code",
   "execution_count": 66,
   "metadata": {},
   "outputs": [
    {
     "data": {
      "image/png": "[encoded data removed]",
      "text/plain": [
       "<Figure size 1080x360 with 1 Axes>"
      ]
     },
     "metadata": {
      "needs_background": "light"
     },
     "output_type": "display_data"
    }
   ],
   "source": [
    "_ = Results_with_date_Jan_2017[['sales','pred']].plot(figsize=(15, 5))"
   ]
  },
  {
   "cell_type": "code",
   "execution_count": null,
   "metadata": {},
   "outputs": [],
   "source": []
  }
 ],
 "metadata": {
  "colab": {
   "collapsed_sections": [],
   "name": "DSIA Lab.4.4.ipynb",
   "provenance": []
  },
  "kernelspec": {
   "display_name": "Python 3",
   "language": "python",
   "name": "python3"
  },
  "language_info": {
   "codemirror_mode": {
    "name": "ipython",
    "version": 3
   },
   "file_extension": ".py",
   "mimetype": "text/x-python",
   "name": "python",
   "nbconvert_exporter": "python",
   "pygments_lexer": "ipython3",
   "version": "3.7.6"
  }
 },
 "nbformat": 4,
 "nbformat_minor": 1
}
