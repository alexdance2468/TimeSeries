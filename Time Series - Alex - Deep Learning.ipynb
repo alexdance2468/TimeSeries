{
 "cells": [
  {
   "cell_type": "markdown",
   "metadata": {},
   "source": [
    "# Deep Learning for Time Series Store forecast \n",
    "* By Alex Dance https://www.linkedin.com/in/alex-dance/\n",
    "* This notebook is one of several notebooks for a project to improve store and product forecasts\n",
    "1.\tEDA – Exploratory Data Analysis – includes working with annual forecasts\n",
    "2.\tMain Modelling\n",
    "3.\tXG Boost modelling by Month\n",
    "4.\tWeighted average\n",
    "5.\tARIMA – Month and Other Modelling\n",
    "6.\tDeep Learning\n"
   ]
  },
  {
   "cell_type": "markdown",
   "metadata": {},
   "source": [
    "Useful is https://www.dataquest.io/blog/tutorial-time-series-analysis-with-pandas/"
   ]
  },
  {
   "cell_type": "code",
   "execution_count": 1,
   "metadata": {},
   "outputs": [],
   "source": [
    "import pandas as pd\n",
    "import numpy as np\n",
    "import matplotlib.pyplot as plt\n",
    "from datetime import datetime\n"
   ]
  },
  {
   "cell_type": "code",
   "execution_count": 2,
   "metadata": {},
   "outputs": [],
   "source": [
    "import tensorflow as tf\n",
    "from tensorflow import keras\n",
    "from pylab import rcParams\n"
   ]
  },
  {
   "cell_type": "code",
   "execution_count": 3,
   "metadata": {},
   "outputs": [],
   "source": [
    "class color:  # Testing to make the heading look a liitle more impressive\n",
    "   BOLD = '\\033[1m'"
   ]
  },
  {
   "cell_type": "code",
   "execution_count": 4,
   "metadata": {},
   "outputs": [],
   "source": [
    "from sklearn.metrics import mean_squared_error , mean_absolute_error"
   ]
  },
  {
   "cell_type": "code",
   "execution_count": 5,
   "metadata": {},
   "outputs": [
    {
     "data": {
      "text/html": [
       "<div>\n",
       "<style scoped>\n",
       "    .dataframe tbody tr th:only-of-type {\n",
       "        vertical-align: middle;\n",
       "    }\n",
       "\n",
       "    .dataframe tbody tr th {\n",
       "        vertical-align: top;\n",
       "    }\n",
       "\n",
       "    .dataframe thead th {\n",
       "        text-align: right;\n",
       "    }\n",
       "</style>\n",
       "<table border=\"1\" class=\"dataframe\">\n",
       "  <thead>\n",
       "    <tr style=\"text-align: right;\">\n",
       "      <th></th>\n",
       "      <th>date</th>\n",
       "      <th>store</th>\n",
       "      <th>item</th>\n",
       "      <th>sales</th>\n",
       "    </tr>\n",
       "  </thead>\n",
       "  <tbody>\n",
       "    <tr>\n",
       "      <th>0</th>\n",
       "      <td>2013-01-01</td>\n",
       "      <td>1</td>\n",
       "      <td>1</td>\n",
       "      <td>13</td>\n",
       "    </tr>\n",
       "    <tr>\n",
       "      <th>1</th>\n",
       "      <td>2013-01-02</td>\n",
       "      <td>1</td>\n",
       "      <td>1</td>\n",
       "      <td>11</td>\n",
       "    </tr>\n",
       "    <tr>\n",
       "      <th>2</th>\n",
       "      <td>2013-01-03</td>\n",
       "      <td>1</td>\n",
       "      <td>1</td>\n",
       "      <td>14</td>\n",
       "    </tr>\n",
       "    <tr>\n",
       "      <th>3</th>\n",
       "      <td>2013-01-04</td>\n",
       "      <td>1</td>\n",
       "      <td>1</td>\n",
       "      <td>13</td>\n",
       "    </tr>\n",
       "    <tr>\n",
       "      <th>4</th>\n",
       "      <td>2013-01-05</td>\n",
       "      <td>1</td>\n",
       "      <td>1</td>\n",
       "      <td>10</td>\n",
       "    </tr>\n",
       "  </tbody>\n",
       "</table>\n",
       "</div>"
      ],
      "text/plain": [
       "         date  store  item  sales\n",
       "0  2013-01-01      1     1     13\n",
       "1  2013-01-02      1     1     11\n",
       "2  2013-01-03      1     1     14\n",
       "3  2013-01-04      1     1     13\n",
       "4  2013-01-05      1     1     10"
      ]
     },
     "execution_count": 5,
     "metadata": {},
     "output_type": "execute_result"
    }
   ],
   "source": [
    "df = pd.read_csv(r'C:/Users/alexd/Alex Folder 1/Capstone - Store Forecast/train.csv')\n",
    "df.head()"
   ]
  },
  {
   "cell_type": "markdown",
   "metadata": {},
   "source": [
    "# Getting Data Ready"
   ]
  },
  {
   "cell_type": "code",
   "execution_count": 6,
   "metadata": {},
   "outputs": [],
   "source": [
    "df['date'] =  pd.to_datetime(df['date'])"
   ]
  },
  {
   "cell_type": "code",
   "execution_count": 7,
   "metadata": {},
   "outputs": [],
   "source": [
    "df = df.set_index('date')"
   ]
  },
  {
   "cell_type": "code",
   "execution_count": 8,
   "metadata": {},
   "outputs": [
    {
     "data": {
      "text/html": [
       "<div>\n",
       "<style scoped>\n",
       "    .dataframe tbody tr th:only-of-type {\n",
       "        vertical-align: middle;\n",
       "    }\n",
       "\n",
       "    .dataframe tbody tr th {\n",
       "        vertical-align: top;\n",
       "    }\n",
       "\n",
       "    .dataframe thead th {\n",
       "        text-align: right;\n",
       "    }\n",
       "</style>\n",
       "<table border=\"1\" class=\"dataframe\">\n",
       "  <thead>\n",
       "    <tr style=\"text-align: right;\">\n",
       "      <th></th>\n",
       "      <th>store</th>\n",
       "      <th>item</th>\n",
       "      <th>sales</th>\n",
       "    </tr>\n",
       "    <tr>\n",
       "      <th>date</th>\n",
       "      <th></th>\n",
       "      <th></th>\n",
       "      <th></th>\n",
       "    </tr>\n",
       "  </thead>\n",
       "  <tbody>\n",
       "    <tr>\n",
       "      <th>2013-01-01</th>\n",
       "      <td>1</td>\n",
       "      <td>1</td>\n",
       "      <td>13</td>\n",
       "    </tr>\n",
       "    <tr>\n",
       "      <th>2013-01-02</th>\n",
       "      <td>1</td>\n",
       "      <td>1</td>\n",
       "      <td>11</td>\n",
       "    </tr>\n",
       "    <tr>\n",
       "      <th>2013-01-03</th>\n",
       "      <td>1</td>\n",
       "      <td>1</td>\n",
       "      <td>14</td>\n",
       "    </tr>\n",
       "    <tr>\n",
       "      <th>2013-01-04</th>\n",
       "      <td>1</td>\n",
       "      <td>1</td>\n",
       "      <td>13</td>\n",
       "    </tr>\n",
       "    <tr>\n",
       "      <th>2013-01-05</th>\n",
       "      <td>1</td>\n",
       "      <td>1</td>\n",
       "      <td>10</td>\n",
       "    </tr>\n",
       "  </tbody>\n",
       "</table>\n",
       "</div>"
      ],
      "text/plain": [
       "            store  item  sales\n",
       "date                          \n",
       "2013-01-01      1     1     13\n",
       "2013-01-02      1     1     11\n",
       "2013-01-03      1     1     14\n",
       "2013-01-04      1     1     13\n",
       "2013-01-05      1     1     10"
      ]
     },
     "execution_count": 8,
     "metadata": {},
     "output_type": "execute_result"
    }
   ],
   "source": [
    "df.head()"
   ]
  },
  {
   "cell_type": "code",
   "execution_count": 9,
   "metadata": {},
   "outputs": [],
   "source": [
    "df_1_1 = df[(df.store==1) & (df.item==1)] "
   ]
  },
  {
   "cell_type": "code",
   "execution_count": 10,
   "metadata": {},
   "outputs": [],
   "source": [
    "Deep1_all = df_1_1.resample('D')['sales'].sum()"
   ]
  },
  {
   "cell_type": "code",
   "execution_count": 11,
   "metadata": {},
   "outputs": [],
   "source": [
    "#Deep1_all = df.resample('D')['sales'].sum()  # this is of doing the forecast on the total dataset by day"
   ]
  },
  {
   "cell_type": "code",
   "execution_count": 12,
   "metadata": {},
   "outputs": [
    {
     "data": {
      "text/plain": [
       "date\n",
       "2013-01-01    13\n",
       "2013-01-02    11\n",
       "2013-01-03    14\n",
       "2013-01-04    13\n",
       "2013-01-05    10\n",
       "Freq: D, Name: sales, dtype: int64"
      ]
     },
     "execution_count": 12,
     "metadata": {},
     "output_type": "execute_result"
    }
   ],
   "source": [
    "Deep1_all.head()"
   ]
  },
  {
   "cell_type": "markdown",
   "metadata": {},
   "source": [
    "# The next few lines are to ensure can match the index to the date so can compare the predictions with an actual date"
   ]
  },
  {
   "cell_type": "code",
   "execution_count": 13,
   "metadata": {},
   "outputs": [],
   "source": [
    "Deep1_all_With_index = Deep1_all.copy()"
   ]
  },
  {
   "cell_type": "code",
   "execution_count": 14,
   "metadata": {},
   "outputs": [],
   "source": [
    "Deep1_all_With_index =Deep1_all_With_index.reset_index()"
   ]
  },
  {
   "cell_type": "code",
   "execution_count": 15,
   "metadata": {},
   "outputs": [],
   "source": [
    "#Deep1_all_With_index.tail()"
   ]
  },
  {
   "cell_type": "code",
   "execution_count": 16,
   "metadata": {},
   "outputs": [
    {
     "data": {
      "text/html": [
       "<div>\n",
       "<style scoped>\n",
       "    .dataframe tbody tr th:only-of-type {\n",
       "        vertical-align: middle;\n",
       "    }\n",
       "\n",
       "    .dataframe tbody tr th {\n",
       "        vertical-align: top;\n",
       "    }\n",
       "\n",
       "    .dataframe thead th {\n",
       "        text-align: right;\n",
       "    }\n",
       "</style>\n",
       "<table border=\"1\" class=\"dataframe\">\n",
       "  <thead>\n",
       "    <tr style=\"text-align: right;\">\n",
       "      <th></th>\n",
       "      <th>date</th>\n",
       "      <th>sales</th>\n",
       "    </tr>\n",
       "  </thead>\n",
       "  <tbody>\n",
       "    <tr>\n",
       "      <th>0</th>\n",
       "      <td>2013-01-01</td>\n",
       "      <td>13</td>\n",
       "    </tr>\n",
       "    <tr>\n",
       "      <th>1</th>\n",
       "      <td>2013-01-02</td>\n",
       "      <td>11</td>\n",
       "    </tr>\n",
       "    <tr>\n",
       "      <th>2</th>\n",
       "      <td>2013-01-03</td>\n",
       "      <td>14</td>\n",
       "    </tr>\n",
       "    <tr>\n",
       "      <th>3</th>\n",
       "      <td>2013-01-04</td>\n",
       "      <td>13</td>\n",
       "    </tr>\n",
       "    <tr>\n",
       "      <th>4</th>\n",
       "      <td>2013-01-05</td>\n",
       "      <td>10</td>\n",
       "    </tr>\n",
       "  </tbody>\n",
       "</table>\n",
       "</div>"
      ],
      "text/plain": [
       "        date  sales\n",
       "0 2013-01-01     13\n",
       "1 2013-01-02     11\n",
       "2 2013-01-03     14\n",
       "3 2013-01-04     13\n",
       "4 2013-01-05     10"
      ]
     },
     "execution_count": 16,
     "metadata": {},
     "output_type": "execute_result"
    }
   ],
   "source": [
    "Deep1_all_With_index.head()"
   ]
  },
  {
   "cell_type": "code",
   "execution_count": 17,
   "metadata": {},
   "outputs": [],
   "source": [
    "Deep1 = Deep1_all_With_index.drop(['date'], axis = 1)"
   ]
  },
  {
   "cell_type": "code",
   "execution_count": 18,
   "metadata": {},
   "outputs": [],
   "source": [
    "Deep1['sales'] = Deep1['sales'].astype('float32')"
   ]
  },
  {
   "cell_type": "code",
   "execution_count": 19,
   "metadata": {},
   "outputs": [
    {
     "name": "stdout",
     "output_type": "stream",
     "text": [
      "<class 'pandas.core.frame.DataFrame'>\n",
      "RangeIndex: 1826 entries, 0 to 1825\n",
      "Data columns (total 1 columns):\n",
      " #   Column  Non-Null Count  Dtype  \n",
      "---  ------  --------------  -----  \n",
      " 0   sales   1826 non-null   float32\n",
      "dtypes: float32(1)\n",
      "memory usage: 7.3 KB\n"
     ]
    }
   ],
   "source": [
    "Deep1.info()"
   ]
  },
  {
   "cell_type": "code",
   "execution_count": 20,
   "metadata": {},
   "outputs": [],
   "source": [
    "values = Deep1.values"
   ]
  },
  {
   "cell_type": "code",
   "execution_count": 21,
   "metadata": {},
   "outputs": [
    {
     "name": "stdout",
     "output_type": "stream",
     "text": [
      "[[13.]\n",
      " [11.]\n",
      " [14.]\n",
      " ...\n",
      " [15.]\n",
      " [27.]\n",
      " [23.]]\n"
     ]
    }
   ],
   "source": [
    "print(values)"
   ]
  },
  {
   "cell_type": "code",
   "execution_count": 22,
   "metadata": {},
   "outputs": [],
   "source": [
    "values = values.astype('float32')"
   ]
  },
  {
   "cell_type": "code",
   "execution_count": 23,
   "metadata": {},
   "outputs": [
    {
     "data": {
      "text/plain": [
       "(1826, 1)"
      ]
     },
     "execution_count": 23,
     "metadata": {},
     "output_type": "execute_result"
    }
   ],
   "source": [
    "Deep1.shape"
   ]
  },
  {
   "cell_type": "code",
   "execution_count": 24,
   "metadata": {},
   "outputs": [
    {
     "name": "stdout",
     "output_type": "stream",
     "text": [
      "1450 376\n"
     ]
    }
   ],
   "source": [
    "train_size = int(len(Deep1) -376) # This is 366 days of the year + 10 days of extra data beforehand\n",
    "test_size = len(Deep1) - train_size\n",
    "train, test = Deep1.iloc[0:train_size], Deep1.iloc[train_size:len(Deep1)]\n",
    "print(len(train), len(test))"
   ]
  },
  {
   "cell_type": "code",
   "execution_count": 25,
   "metadata": {},
   "outputs": [
    {
     "name": "stdout",
     "output_type": "stream",
     "text": [
      "      sales\n",
      "1450   12.0\n",
      "1451   20.0\n",
      "1452   21.0\n",
      "1453   13.0\n",
      "1454   20.0\n",
      "...     ...\n",
      "1821   14.0\n",
      "1822   19.0\n",
      "1823   15.0\n",
      "1824   27.0\n",
      "1825   23.0\n",
      "\n",
      "[376 rows x 1 columns]\n"
     ]
    }
   ],
   "source": [
    "print(test)"
   ]
  },
  {
   "cell_type": "code",
   "execution_count": 26,
   "metadata": {},
   "outputs": [
    {
     "name": "stdout",
     "output_type": "stream",
     "text": [
      "      sales\n",
      "0      13.0\n",
      "1      11.0\n",
      "2      14.0\n",
      "3      13.0\n",
      "4      10.0\n",
      "...     ...\n",
      "1445   15.0\n",
      "1446   19.0\n",
      "1447   22.0\n",
      "1448   17.0\n",
      "1449   18.0\n",
      "\n",
      "[1450 rows x 1 columns]\n"
     ]
    }
   ],
   "source": [
    "print(train)"
   ]
  },
  {
   "cell_type": "code",
   "execution_count": 27,
   "metadata": {},
   "outputs": [],
   "source": [
    "#train_c['sales'] = float(train_c['sales'])"
   ]
  },
  {
   "cell_type": "code",
   "execution_count": 28,
   "metadata": {},
   "outputs": [
    {
     "data": {
      "text/html": [
       "<div>\n",
       "<style scoped>\n",
       "    .dataframe tbody tr th:only-of-type {\n",
       "        vertical-align: middle;\n",
       "    }\n",
       "\n",
       "    .dataframe tbody tr th {\n",
       "        vertical-align: top;\n",
       "    }\n",
       "\n",
       "    .dataframe thead th {\n",
       "        text-align: right;\n",
       "    }\n",
       "</style>\n",
       "<table border=\"1\" class=\"dataframe\">\n",
       "  <thead>\n",
       "    <tr style=\"text-align: right;\">\n",
       "      <th></th>\n",
       "      <th>sales</th>\n",
       "    </tr>\n",
       "  </thead>\n",
       "  <tbody>\n",
       "    <tr>\n",
       "      <th>0</th>\n",
       "      <td>13.0</td>\n",
       "    </tr>\n",
       "    <tr>\n",
       "      <th>1</th>\n",
       "      <td>11.0</td>\n",
       "    </tr>\n",
       "    <tr>\n",
       "      <th>2</th>\n",
       "      <td>14.0</td>\n",
       "    </tr>\n",
       "    <tr>\n",
       "      <th>3</th>\n",
       "      <td>13.0</td>\n",
       "    </tr>\n",
       "    <tr>\n",
       "      <th>4</th>\n",
       "      <td>10.0</td>\n",
       "    </tr>\n",
       "  </tbody>\n",
       "</table>\n",
       "</div>"
      ],
      "text/plain": [
       "   sales\n",
       "0   13.0\n",
       "1   11.0\n",
       "2   14.0\n",
       "3   13.0\n",
       "4   10.0"
      ]
     },
     "execution_count": 28,
     "metadata": {},
     "output_type": "execute_result"
    }
   ],
   "source": [
    "train.head()"
   ]
  },
  {
   "cell_type": "code",
   "execution_count": 29,
   "metadata": {},
   "outputs": [],
   "source": [
    "# One of the most difficult parts of Deep Learning modelling is to get the dataset in the right format \n",
    "# This function completes that proces\n",
    "\n",
    "def create_dataset(X, y, time_steps=1):\n",
    "    Xs, ys = [], []\n",
    "    for i in range(len(X) - time_steps):\n",
    "        v = X.iloc[i:(i + time_steps)].values\n",
    "        Xs.append(v)\n",
    "        ys.append(y.iloc[i + time_steps])\n",
    "        #print(Xs[-1], ys[-1])  \n",
    "    return np.array(Xs), np.array(ys)"
   ]
  },
  {
   "cell_type": "code",
   "execution_count": 30,
   "metadata": {},
   "outputs": [
    {
     "data": {
      "text/plain": [
       "(376, 1)"
      ]
     },
     "execution_count": 30,
     "metadata": {},
     "output_type": "execute_result"
    }
   ],
   "source": [
    "test.shape"
   ]
  },
  {
   "cell_type": "code",
   "execution_count": 31,
   "metadata": {},
   "outputs": [],
   "source": [
    "# These next few lines are about getting the data ready for modelling\n",
    "time_steps = 10\n",
    "\n",
    "# reshape to [samples, time_steps, n_features]\n",
    "X_train, y_train = create_dataset(train, train.sales, time_steps)\n",
    "\n",
    "#X_train_c, y_train_c = create_dataset(X_train_c_a, y_train_c_a, time_steps)\n",
    "X_test, y_test = create_dataset(test, test.sales, time_steps)\n",
    "\n"
   ]
  },
  {
   "cell_type": "code",
   "execution_count": 32,
   "metadata": {},
   "outputs": [
    {
     "name": "stdout",
     "output_type": "stream",
     "text": [
      "(1440, 10, 1) (1440,)\n"
     ]
    }
   ],
   "source": [
    "print(X_train.shape, y_train.shape)\n",
    "# Note the 3 dimensional shape"
   ]
  },
  {
   "cell_type": "code",
   "execution_count": 33,
   "metadata": {},
   "outputs": [
    {
     "data": {
      "text/plain": [
       "366"
      ]
     },
     "execution_count": 33,
     "metadata": {},
     "output_type": "execute_result"
    }
   ],
   "source": [
    "len(X_test)\n"
   ]
  },
  {
   "cell_type": "code",
   "execution_count": 34,
   "metadata": {},
   "outputs": [],
   "source": [
    "# Try2\n",
    "deep_model = keras.Sequential()\n",
    "deep_model.add(keras.layers.LSTM(\n",
    "  units=128,\n",
    "  input_shape=(X_train.shape[1], X_train.shape[2])\n",
    "))\n",
    "deep_model.add(keras.layers.Dense(units=2))\n",
    "deep_model.add(keras.layers.Dense(units=1))\n",
    "\n",
    "deep_model.compile(\n",
    "  loss='mse',\n",
    "  optimizer=keras.optimizers.Adam(0.001)) # was 0.001"
   ]
  },
  {
   "cell_type": "code",
   "execution_count": 35,
   "metadata": {},
   "outputs": [
    {
     "name": "stdout",
     "output_type": "stream",
     "text": [
      "Epoch 1/30\n",
      "81/81 [==============================] - 1s 9ms/step - loss: 319.7437 - val_loss: 288.9857\n",
      "Epoch 2/30\n",
      "81/81 [==============================] - 0s 4ms/step - loss: 117.8060 - val_loss: 85.6060\n",
      "Epoch 3/30\n",
      "81/81 [==============================] - 0s 4ms/step - loss: 44.4889 - val_loss: 43.9674\n",
      "Epoch 4/30\n",
      "81/81 [==============================] - 0s 5ms/step - loss: 44.3805 - val_loss: 41.8376\n",
      "Epoch 5/30\n",
      "81/81 [==============================] - 0s 4ms/step - loss: 44.6422 - val_loss: 41.6833\n",
      "Epoch 6/30\n",
      "81/81 [==============================] - 0s 4ms/step - loss: 43.9262 - val_loss: 39.7583\n",
      "Epoch 7/30\n",
      "81/81 [==============================] - 0s 5ms/step - loss: 44.2703 - val_loss: 39.2888\n",
      "Epoch 8/30\n",
      "81/81 [==============================] - 0s 4ms/step - loss: 42.6543 - val_loss: 38.3708\n",
      "Epoch 9/30\n",
      "81/81 [==============================] - 0s 4ms/step - loss: 39.8605 - val_loss: 35.3181\n",
      "Epoch 10/30\n",
      "81/81 [==============================] - 0s 5ms/step - loss: 38.2384 - val_loss: 33.1693\n",
      "Epoch 11/30\n",
      "81/81 [==============================] - 0s 5ms/step - loss: 35.1071 - val_loss: 32.0640\n",
      "Epoch 12/30\n",
      "81/81 [==============================] - 0s 5ms/step - loss: 32.4665 - val_loss: 31.6938\n",
      "Epoch 13/30\n",
      "81/81 [==============================] - 0s 5ms/step - loss: 30.5576 - val_loss: 32.1533\n",
      "Epoch 14/30\n",
      "81/81 [==============================] - 0s 4ms/step - loss: 29.2635 - val_loss: 31.8315\n",
      "Epoch 15/30\n",
      "81/81 [==============================] - 0s 5ms/step - loss: 28.7914 - val_loss: 31.7299\n",
      "Epoch 16/30\n",
      "81/81 [==============================] - 0s 5ms/step - loss: 29.1567 - val_loss: 31.0193\n",
      "Epoch 17/30\n",
      "81/81 [==============================] - 0s 5ms/step - loss: 28.2251 - val_loss: 30.0677\n",
      "Epoch 18/30\n",
      "81/81 [==============================] - 0s 5ms/step - loss: 27.7615 - val_loss: 30.4601\n",
      "Epoch 19/30\n",
      "81/81 [==============================] - 0s 5ms/step - loss: 27.7985 - val_loss: 30.4378\n",
      "Epoch 20/30\n",
      "81/81 [==============================] - 0s 5ms/step - loss: 27.5671 - val_loss: 30.7426\n",
      "Epoch 21/30\n",
      "81/81 [==============================] - 0s 5ms/step - loss: 27.0737 - val_loss: 30.5078\n",
      "Epoch 22/30\n",
      "81/81 [==============================] - 0s 5ms/step - loss: 26.9926 - val_loss: 31.5896\n",
      "Epoch 23/30\n",
      "81/81 [==============================] - 0s 5ms/step - loss: 26.8750 - val_loss: 31.5722\n",
      "Epoch 24/30\n",
      "81/81 [==============================] - 0s 5ms/step - loss: 26.5498 - val_loss: 31.8658\n",
      "Epoch 25/30\n",
      "81/81 [==============================] - 0s 5ms/step - loss: 26.3874 - val_loss: 31.8814\n",
      "Epoch 26/30\n",
      "81/81 [==============================] - 0s 5ms/step - loss: 26.2729 - val_loss: 32.1212\n",
      "Epoch 27/30\n",
      "81/81 [==============================] - 0s 5ms/step - loss: 26.1711 - val_loss: 32.2988\n",
      "Epoch 28/30\n",
      "81/81 [==============================] - 0s 5ms/step - loss: 25.9373 - val_loss: 32.2392\n",
      "Epoch 29/30\n",
      "81/81 [==============================] - 0s 5ms/step - loss: 25.9116 - val_loss: 32.3986\n",
      "Epoch 30/30\n",
      "81/81 [==============================] - 0s 5ms/step - loss: 25.8173 - val_loss: 32.3198\n"
     ]
    }
   ],
   "source": [
    "history = deep_model.fit(\n",
    "    X_train, y_train,\n",
    "    epochs=30,\n",
    "    batch_size=16,\n",
    "    validation_split=0.1,\n",
    "    verbose=1,\n",
    "    shuffle=False\n",
    ")"
   ]
  },
  {
   "cell_type": "code",
   "execution_count": 36,
   "metadata": {},
   "outputs": [
    {
     "name": "stdout",
     "output_type": "stream",
     "text": [
      "[ 9.  7. 10. ... 22. 17. 18.]\n"
     ]
    }
   ],
   "source": [
    "print(y_train)"
   ]
  },
  {
   "cell_type": "code",
   "execution_count": 37,
   "metadata": {},
   "outputs": [],
   "source": [
    "y_pred = deep_model.predict(X_test)"
   ]
  },
  {
   "cell_type": "markdown",
   "metadata": {},
   "source": [
    "# Now Looking at the data"
   ]
  },
  {
   "cell_type": "code",
   "execution_count": 38,
   "metadata": {},
   "outputs": [
    {
     "name": "stdout",
     "output_type": "stream",
     "text": [
      "[[17.554134 ]\n",
      " [17.412334 ]\n",
      " [17.706165 ]\n",
      " [15.718063 ]\n",
      " [14.884052 ]\n",
      " [16.952166 ]\n",
      " [17.534113 ]\n",
      " [17.023075 ]\n",
      " [16.579077 ]\n",
      " [17.066265 ]\n",
      " [16.149914 ]\n",
      " [15.179323 ]\n",
      " [15.689566 ]\n",
      " [16.978352 ]\n",
      " [14.1532955]\n",
      " [15.917763 ]\n",
      " [18.53187  ]\n",
      " [15.525066 ]\n",
      " [15.228758 ]\n",
      " [15.013333 ]\n",
      " [14.993645 ]\n",
      " [16.208847 ]\n",
      " [17.97654  ]\n",
      " [16.769167 ]\n",
      " [14.597801 ]\n",
      " [15.671315 ]\n",
      " [15.200985 ]\n",
      " [16.11099  ]\n",
      " [14.308163 ]\n",
      " [15.916925 ]\n",
      " [16.490831 ]\n",
      " [14.28837  ]\n",
      " [15.868786 ]\n",
      " [15.14274  ]\n",
      " [15.502292 ]\n",
      " [17.185062 ]\n",
      " [20.439175 ]\n",
      " [18.035797 ]\n",
      " [17.144518 ]\n",
      " [17.018963 ]\n",
      " [17.637308 ]\n",
      " [21.169792 ]\n",
      " [22.608347 ]\n",
      " [20.231401 ]\n",
      " [16.837898 ]\n",
      " [14.897624 ]\n",
      " [16.443085 ]\n",
      " [17.676128 ]\n",
      " [15.408731 ]\n",
      " [16.847183 ]\n",
      " [18.271221 ]\n",
      " [16.236542 ]\n",
      " [13.955905 ]\n",
      " [16.084558 ]\n",
      " [14.379318 ]\n",
      " [17.122128 ]\n",
      " [17.342484 ]\n",
      " [16.210468 ]\n",
      " [16.93915  ]\n",
      " [14.7891445]\n",
      " [17.047297 ]\n",
      " [16.44442  ]\n",
      " [18.202597 ]\n",
      " [18.762016 ]\n",
      " [20.458004 ]\n",
      " [17.697617 ]\n",
      " [16.535728 ]\n",
      " [16.545345 ]\n",
      " [18.327345 ]\n",
      " [18.31772  ]\n",
      " [15.97177  ]\n",
      " [18.355236 ]\n",
      " [16.390915 ]\n",
      " [15.467756 ]\n",
      " [18.457726 ]\n",
      " [18.649727 ]\n",
      " [19.874474 ]\n",
      " [18.43055  ]\n",
      " [20.133968 ]\n",
      " [19.348742 ]\n",
      " [20.509905 ]\n",
      " [19.151287 ]\n",
      " [20.408993 ]\n",
      " [17.749237 ]\n",
      " [20.0261   ]\n",
      " [21.417278 ]\n",
      " [16.557322 ]\n",
      " [17.474    ]\n",
      " [18.480059 ]\n",
      " [16.675732 ]\n",
      " [18.385296 ]\n",
      " [17.333439 ]\n",
      " [18.73432  ]\n",
      " [20.09242  ]\n",
      " [16.65844  ]\n",
      " [17.622643 ]\n",
      " [19.796875 ]\n",
      " [19.525753 ]\n",
      " [22.594978 ]\n",
      " [22.2934   ]\n",
      " [20.39706  ]\n",
      " [21.503582 ]\n",
      " [22.116909 ]\n",
      " [23.702267 ]\n",
      " [24.13982  ]\n",
      " [21.011166 ]\n",
      " [19.723001 ]\n",
      " [21.236748 ]\n",
      " [20.272015 ]\n",
      " [19.453005 ]\n",
      " [21.906868 ]\n",
      " [19.300625 ]\n",
      " [23.324986 ]\n",
      " [22.94514  ]\n",
      " [18.4631   ]\n",
      " [19.783535 ]\n",
      " [21.660118 ]\n",
      " [24.71977  ]\n",
      " [24.235962 ]\n",
      " [21.80061  ]\n",
      " [23.494467 ]\n",
      " [23.057808 ]\n",
      " [23.932901 ]\n",
      " [24.241627 ]\n",
      " [27.288153 ]\n",
      " [27.461174 ]\n",
      " [27.03274  ]\n",
      " [24.802116 ]\n",
      " [21.60525  ]\n",
      " [24.012848 ]\n",
      " [26.11223  ]\n",
      " [23.632435 ]\n",
      " [27.845474 ]\n",
      " [28.164585 ]\n",
      " [27.826225 ]\n",
      " [25.786045 ]\n",
      " [24.001179 ]\n",
      " [20.259789 ]\n",
      " [19.916332 ]\n",
      " [25.803795 ]\n",
      " [26.572653 ]\n",
      " [26.181198 ]\n",
      " [22.303349 ]\n",
      " [24.66186  ]\n",
      " [21.855717 ]\n",
      " [28.184452 ]\n",
      " [28.053894 ]\n",
      " [26.813934 ]\n",
      " [24.402653 ]\n",
      " [23.20765  ]\n",
      " [22.045187 ]\n",
      " [25.619396 ]\n",
      " [25.097244 ]\n",
      " [27.684874 ]\n",
      " [27.98932  ]\n",
      " [26.87566  ]\n",
      " [23.648256 ]\n",
      " [21.561653 ]\n",
      " [23.825443 ]\n",
      " [27.709343 ]\n",
      " [27.697905 ]\n",
      " [27.245766 ]\n",
      " [26.608597 ]\n",
      " [24.987381 ]\n",
      " [26.36102  ]\n",
      " [27.70378  ]\n",
      " [26.593246 ]\n",
      " [24.10273  ]\n",
      " [27.843445 ]\n",
      " [27.240517 ]\n",
      " [27.158249 ]\n",
      " [28.021206 ]\n",
      " [28.22639  ]\n",
      " [28.226505 ]\n",
      " [28.036499 ]\n",
      " [28.219616 ]\n",
      " [28.096272 ]\n",
      " [26.856577 ]\n",
      " [23.901028 ]\n",
      " [25.886864 ]\n",
      " [27.241077 ]\n",
      " [28.03175  ]\n",
      " [28.205221 ]\n",
      " [27.856152 ]\n",
      " [27.592554 ]\n",
      " [28.125275 ]\n",
      " [28.136051 ]\n",
      " [28.115906 ]\n",
      " [28.130974 ]\n",
      " [27.938263 ]\n",
      " [25.973644 ]\n",
      " [22.734245 ]\n",
      " [23.928759 ]\n",
      " [26.85325  ]\n",
      " [28.248165 ]\n",
      " [28.018154 ]\n",
      " [27.347073 ]\n",
      " [26.985916 ]\n",
      " [23.20168  ]\n",
      " [27.268282 ]\n",
      " [28.120865 ]\n",
      " [27.795746 ]\n",
      " [28.182022 ]\n",
      " [28.19684  ]\n",
      " [27.738941 ]\n",
      " [24.922693 ]\n",
      " [27.674253 ]\n",
      " [27.738438 ]\n",
      " [28.30812  ]\n",
      " [28.15493  ]\n",
      " [28.23613  ]\n",
      " [27.901573 ]\n",
      " [26.567947 ]\n",
      " [24.89179  ]\n",
      " [27.764847 ]\n",
      " [27.827076 ]\n",
      " [26.861298 ]\n",
      " [26.638084 ]\n",
      " [25.020985 ]\n",
      " [23.522255 ]\n",
      " [21.620827 ]\n",
      " [23.143322 ]\n",
      " [26.747963 ]\n",
      " [27.975937 ]\n",
      " [27.915422 ]\n",
      " [26.723747 ]\n",
      " [24.431026 ]\n",
      " [27.897915 ]\n",
      " [27.819334 ]\n",
      " [28.10664  ]\n",
      " [27.645233 ]\n",
      " [28.15012  ]\n",
      " [27.34755  ]\n",
      " [24.71706  ]\n",
      " [21.363068 ]\n",
      " [25.00341  ]\n",
      " [26.053703 ]\n",
      " [27.582779 ]\n",
      " [26.792847 ]\n",
      " [25.843855 ]\n",
      " [23.781862 ]\n",
      " [26.627422 ]\n",
      " [25.054943 ]\n",
      " [21.357233 ]\n",
      " [27.779488 ]\n",
      " [27.323397 ]\n",
      " [24.237694 ]\n",
      " [20.887123 ]\n",
      " [20.902199 ]\n",
      " [25.306656 ]\n",
      " [27.596233 ]\n",
      " [27.47269  ]\n",
      " [24.966202 ]\n",
      " [23.173767 ]\n",
      " [20.85717  ]\n",
      " [22.566677 ]\n",
      " [25.618832 ]\n",
      " [26.999073 ]\n",
      " [27.610683 ]\n",
      " [26.208992 ]\n",
      " [24.237507 ]\n",
      " [20.989716 ]\n",
      " [22.179466 ]\n",
      " [20.291643 ]\n",
      " [23.6637   ]\n",
      " [26.979794 ]\n",
      " [26.610394 ]\n",
      " [26.515    ]\n",
      " [23.585682 ]\n",
      " [21.230906 ]\n",
      " [20.98729  ]\n",
      " [24.642345 ]\n",
      " [27.544897 ]\n",
      " [26.080038 ]\n",
      " [23.342552 ]\n",
      " [19.84534  ]\n",
      " [18.7942   ]\n",
      " [23.48632  ]\n",
      " [24.199038 ]\n",
      " [26.069311 ]\n",
      " [24.220291 ]\n",
      " [19.830067 ]\n",
      " [16.633495 ]\n",
      " [15.861557 ]\n",
      " [18.016863 ]\n",
      " [16.942902 ]\n",
      " [19.590256 ]\n",
      " [21.211615 ]\n",
      " [20.649815 ]\n",
      " [18.71846  ]\n",
      " [20.343798 ]\n",
      " [19.167912 ]\n",
      " [19.087803 ]\n",
      " [24.091904 ]\n",
      " [25.237675 ]\n",
      " [24.304405 ]\n",
      " [22.028803 ]\n",
      " [21.049473 ]\n",
      " [20.790535 ]\n",
      " [23.700062 ]\n",
      " [24.720146 ]\n",
      " [26.0169   ]\n",
      " [25.334457 ]\n",
      " [22.461514 ]\n",
      " [23.428516 ]\n",
      " [24.152483 ]\n",
      " [23.685825 ]\n",
      " [20.684658 ]\n",
      " [23.293255 ]\n",
      " [25.59454  ]\n",
      " [23.49825  ]\n",
      " [22.047466 ]\n",
      " [19.728485 ]\n",
      " [20.5013   ]\n",
      " [21.649817 ]\n",
      " [24.823944 ]\n",
      " [21.73918  ]\n",
      " [20.405678 ]\n",
      " [22.472305 ]\n",
      " [18.159103 ]\n",
      " [19.833504 ]\n",
      " [20.685493 ]\n",
      " [24.294708 ]\n",
      " [24.848562 ]\n",
      " [23.399235 ]\n",
      " [21.230787 ]\n",
      " [22.716389 ]\n",
      " [24.547848 ]\n",
      " [27.425846 ]\n",
      " [27.869728 ]\n",
      " [27.371584 ]\n",
      " [24.493744 ]\n",
      " [25.717466 ]\n",
      " [24.387676 ]\n",
      " [24.51417  ]\n",
      " [22.827312 ]\n",
      " [24.606808 ]\n",
      " [19.12909  ]\n",
      " [17.923744 ]\n",
      " [14.989999 ]\n",
      " [19.449852 ]\n",
      " [16.619394 ]\n",
      " [17.755108 ]\n",
      " [17.996176 ]\n",
      " [21.53891  ]\n",
      " [16.341969 ]\n",
      " [17.216393 ]\n",
      " [17.610138 ]\n",
      " [17.371822 ]\n",
      " [17.06295  ]\n",
      " [20.404938 ]\n",
      " [17.47445  ]\n",
      " [18.74642  ]\n",
      " [16.597248 ]\n",
      " [14.867647 ]\n",
      " [15.782237 ]\n",
      " [14.954783 ]\n",
      " [13.763892 ]\n",
      " [16.22458  ]\n",
      " [16.47277  ]\n",
      " [14.010605 ]\n",
      " [14.7583685]\n",
      " [15.059015 ]\n",
      " [15.118488 ]\n",
      " [15.040215 ]\n",
      " [18.522247 ]]\n"
     ]
    }
   ],
   "source": [
    "print(y_pred)"
   ]
  },
  {
   "cell_type": "code",
   "execution_count": 39,
   "metadata": {},
   "outputs": [
    {
     "data": {
      "text/plain": [
       "(366, 10, 1)"
      ]
     },
     "execution_count": 39,
     "metadata": {},
     "output_type": "execute_result"
    }
   ],
   "source": [
    "X_test.shape"
   ]
  },
  {
   "cell_type": "code",
   "execution_count": 40,
   "metadata": {},
   "outputs": [
    {
     "name": "stdout",
     "output_type": "stream",
     "text": [
      "[[[12.]\n",
      "  [20.]\n",
      "  [21.]\n",
      "  ...\n",
      "  [16.]\n",
      "  [21.]\n",
      "  [24.]]\n",
      "\n",
      " [[20.]\n",
      "  [21.]\n",
      "  [13.]\n",
      "  ...\n",
      "  [21.]\n",
      "  [24.]\n",
      "  [14.]]\n",
      "\n",
      " [[21.]\n",
      "  [13.]\n",
      "  [20.]\n",
      "  ...\n",
      "  [24.]\n",
      "  [14.]\n",
      "  [19.]]\n",
      "\n",
      " ...\n",
      "\n",
      " [[ 7.]\n",
      "  [16.]\n",
      "  [12.]\n",
      "  ...\n",
      "  [16.]\n",
      "  [14.]\n",
      "  [19.]]\n",
      "\n",
      " [[16.]\n",
      "  [12.]\n",
      "  [ 6.]\n",
      "  ...\n",
      "  [14.]\n",
      "  [19.]\n",
      "  [15.]]\n",
      "\n",
      " [[12.]\n",
      "  [ 6.]\n",
      "  [18.]\n",
      "  ...\n",
      "  [19.]\n",
      "  [15.]\n",
      "  [27.]]]\n"
     ]
    }
   ],
   "source": [
    "print(X_test)"
   ]
  },
  {
   "cell_type": "code",
   "execution_count": 41,
   "metadata": {},
   "outputs": [
    {
     "name": "stdout",
     "output_type": "stream",
     "text": [
      "[[17.554134 ]\n",
      " [17.412334 ]\n",
      " [17.706165 ]\n",
      " [15.718063 ]\n",
      " [14.884052 ]\n",
      " [16.952166 ]\n",
      " [17.534113 ]\n",
      " [17.023075 ]\n",
      " [16.579077 ]\n",
      " [17.066265 ]\n",
      " [16.149914 ]\n",
      " [15.179323 ]\n",
      " [15.689566 ]\n",
      " [16.978352 ]\n",
      " [14.1532955]\n",
      " [15.917763 ]\n",
      " [18.53187  ]\n",
      " [15.525066 ]\n",
      " [15.228758 ]\n",
      " [15.013333 ]\n",
      " [14.993645 ]\n",
      " [16.208847 ]\n",
      " [17.97654  ]\n",
      " [16.769167 ]\n",
      " [14.597801 ]\n",
      " [15.671315 ]\n",
      " [15.200985 ]\n",
      " [16.11099  ]\n",
      " [14.308163 ]\n",
      " [15.916925 ]\n",
      " [16.490831 ]\n",
      " [14.28837  ]\n",
      " [15.868786 ]\n",
      " [15.14274  ]\n",
      " [15.502292 ]\n",
      " [17.185062 ]\n",
      " [20.439175 ]\n",
      " [18.035797 ]\n",
      " [17.144518 ]\n",
      " [17.018963 ]\n",
      " [17.637308 ]\n",
      " [21.169792 ]\n",
      " [22.608347 ]\n",
      " [20.231401 ]\n",
      " [16.837898 ]\n",
      " [14.897624 ]\n",
      " [16.443085 ]\n",
      " [17.676128 ]\n",
      " [15.408731 ]\n",
      " [16.847183 ]\n",
      " [18.271221 ]\n",
      " [16.236542 ]\n",
      " [13.955905 ]\n",
      " [16.084558 ]\n",
      " [14.379318 ]\n",
      " [17.122128 ]\n",
      " [17.342484 ]\n",
      " [16.210468 ]\n",
      " [16.93915  ]\n",
      " [14.7891445]\n",
      " [17.047297 ]\n",
      " [16.44442  ]\n",
      " [18.202597 ]\n",
      " [18.762016 ]\n",
      " [20.458004 ]\n",
      " [17.697617 ]\n",
      " [16.535728 ]\n",
      " [16.545345 ]\n",
      " [18.327345 ]\n",
      " [18.31772  ]\n",
      " [15.97177  ]\n",
      " [18.355236 ]\n",
      " [16.390915 ]\n",
      " [15.467756 ]\n",
      " [18.457726 ]\n",
      " [18.649727 ]\n",
      " [19.874474 ]\n",
      " [18.43055  ]\n",
      " [20.133968 ]\n",
      " [19.348742 ]\n",
      " [20.509905 ]\n",
      " [19.151287 ]\n",
      " [20.408993 ]\n",
      " [17.749237 ]\n",
      " [20.0261   ]\n",
      " [21.417278 ]\n",
      " [16.557322 ]\n",
      " [17.474    ]\n",
      " [18.480059 ]\n",
      " [16.675732 ]\n",
      " [18.385296 ]\n",
      " [17.333439 ]\n",
      " [18.73432  ]\n",
      " [20.09242  ]\n",
      " [16.65844  ]\n",
      " [17.622643 ]\n",
      " [19.796875 ]\n",
      " [19.525753 ]\n",
      " [22.594978 ]\n",
      " [22.2934   ]\n",
      " [20.39706  ]\n",
      " [21.503582 ]\n",
      " [22.116909 ]\n",
      " [23.702267 ]\n",
      " [24.13982  ]\n",
      " [21.011166 ]\n",
      " [19.723001 ]\n",
      " [21.236748 ]\n",
      " [20.272015 ]\n",
      " [19.453005 ]\n",
      " [21.906868 ]\n",
      " [19.300625 ]\n",
      " [23.324986 ]\n",
      " [22.94514  ]\n",
      " [18.4631   ]\n",
      " [19.783535 ]\n",
      " [21.660118 ]\n",
      " [24.71977  ]\n",
      " [24.235962 ]\n",
      " [21.80061  ]\n",
      " [23.494467 ]\n",
      " [23.057808 ]\n",
      " [23.932901 ]\n",
      " [24.241627 ]\n",
      " [27.288153 ]\n",
      " [27.461174 ]\n",
      " [27.03274  ]\n",
      " [24.802116 ]\n",
      " [21.60525  ]\n",
      " [24.012848 ]\n",
      " [26.11223  ]\n",
      " [23.632435 ]\n",
      " [27.845474 ]\n",
      " [28.164585 ]\n",
      " [27.826225 ]\n",
      " [25.786045 ]\n",
      " [24.001179 ]\n",
      " [20.259789 ]\n",
      " [19.916332 ]\n",
      " [25.803795 ]\n",
      " [26.572653 ]\n",
      " [26.181198 ]\n",
      " [22.303349 ]\n",
      " [24.66186  ]\n",
      " [21.855717 ]\n",
      " [28.184452 ]\n",
      " [28.053894 ]\n",
      " [26.813934 ]\n",
      " [24.402653 ]\n",
      " [23.20765  ]\n",
      " [22.045187 ]\n",
      " [25.619396 ]\n",
      " [25.097244 ]\n",
      " [27.684874 ]\n",
      " [27.98932  ]\n",
      " [26.87566  ]\n",
      " [23.648256 ]\n",
      " [21.561653 ]\n",
      " [23.825443 ]\n",
      " [27.709343 ]\n",
      " [27.697905 ]\n",
      " [27.245766 ]\n",
      " [26.608597 ]\n",
      " [24.987381 ]\n",
      " [26.36102  ]\n",
      " [27.70378  ]\n",
      " [26.593246 ]\n",
      " [24.10273  ]\n",
      " [27.843445 ]\n",
      " [27.240517 ]\n",
      " [27.158249 ]\n",
      " [28.021206 ]\n",
      " [28.22639  ]\n",
      " [28.226505 ]\n",
      " [28.036499 ]\n",
      " [28.219616 ]\n",
      " [28.096272 ]\n",
      " [26.856577 ]\n",
      " [23.901028 ]\n",
      " [25.886864 ]\n",
      " [27.241077 ]\n",
      " [28.03175  ]\n",
      " [28.205221 ]\n",
      " [27.856152 ]\n",
      " [27.592554 ]\n",
      " [28.125275 ]\n",
      " [28.136051 ]\n",
      " [28.115906 ]\n",
      " [28.130974 ]\n",
      " [27.938263 ]\n",
      " [25.973644 ]\n",
      " [22.734245 ]\n",
      " [23.928759 ]\n",
      " [26.85325  ]\n",
      " [28.248165 ]\n",
      " [28.018154 ]\n",
      " [27.347073 ]\n",
      " [26.985916 ]\n",
      " [23.20168  ]\n",
      " [27.268282 ]\n",
      " [28.120865 ]\n",
      " [27.795746 ]\n",
      " [28.182022 ]\n",
      " [28.19684  ]\n",
      " [27.738941 ]\n",
      " [24.922693 ]\n",
      " [27.674253 ]\n",
      " [27.738438 ]\n",
      " [28.30812  ]\n",
      " [28.15493  ]\n",
      " [28.23613  ]\n",
      " [27.901573 ]\n",
      " [26.567947 ]\n",
      " [24.89179  ]\n",
      " [27.764847 ]\n",
      " [27.827076 ]\n",
      " [26.861298 ]\n",
      " [26.638084 ]\n",
      " [25.020985 ]\n",
      " [23.522255 ]\n",
      " [21.620827 ]\n",
      " [23.143322 ]\n",
      " [26.747963 ]\n",
      " [27.975937 ]\n",
      " [27.915422 ]\n",
      " [26.723747 ]\n",
      " [24.431026 ]\n",
      " [27.897915 ]\n",
      " [27.819334 ]\n",
      " [28.10664  ]\n",
      " [27.645233 ]\n",
      " [28.15012  ]\n",
      " [27.34755  ]\n",
      " [24.71706  ]\n",
      " [21.363068 ]\n",
      " [25.00341  ]\n",
      " [26.053703 ]\n",
      " [27.582779 ]\n",
      " [26.792847 ]\n",
      " [25.843855 ]\n",
      " [23.781862 ]\n",
      " [26.627422 ]\n",
      " [25.054943 ]\n",
      " [21.357233 ]\n",
      " [27.779488 ]\n",
      " [27.323397 ]\n",
      " [24.237694 ]\n",
      " [20.887123 ]\n",
      " [20.902199 ]\n",
      " [25.306656 ]\n",
      " [27.596233 ]\n",
      " [27.47269  ]\n",
      " [24.966202 ]\n",
      " [23.173767 ]\n",
      " [20.85717  ]\n",
      " [22.566677 ]\n",
      " [25.618832 ]\n",
      " [26.999073 ]\n",
      " [27.610683 ]\n",
      " [26.208992 ]\n",
      " [24.237507 ]\n",
      " [20.989716 ]\n",
      " [22.179466 ]\n",
      " [20.291643 ]\n",
      " [23.6637   ]\n",
      " [26.979794 ]\n",
      " [26.610394 ]\n",
      " [26.515    ]\n",
      " [23.585682 ]\n",
      " [21.230906 ]\n",
      " [20.98729  ]\n",
      " [24.642345 ]\n",
      " [27.544897 ]\n",
      " [26.080038 ]\n",
      " [23.342552 ]\n",
      " [19.84534  ]\n",
      " [18.7942   ]\n",
      " [23.48632  ]\n",
      " [24.199038 ]\n",
      " [26.069311 ]\n",
      " [24.220291 ]\n",
      " [19.830067 ]\n",
      " [16.633495 ]\n",
      " [15.861557 ]\n",
      " [18.016863 ]\n",
      " [16.942902 ]\n",
      " [19.590256 ]\n",
      " [21.211615 ]\n",
      " [20.649815 ]\n",
      " [18.71846  ]\n",
      " [20.343798 ]\n",
      " [19.167912 ]\n",
      " [19.087803 ]\n",
      " [24.091904 ]\n",
      " [25.237675 ]\n",
      " [24.304405 ]\n",
      " [22.028803 ]\n",
      " [21.049473 ]\n",
      " [20.790535 ]\n",
      " [23.700062 ]\n",
      " [24.720146 ]\n",
      " [26.0169   ]\n",
      " [25.334457 ]\n",
      " [22.461514 ]\n",
      " [23.428516 ]\n",
      " [24.152483 ]\n",
      " [23.685825 ]\n",
      " [20.684658 ]\n",
      " [23.293255 ]\n",
      " [25.59454  ]\n",
      " [23.49825  ]\n",
      " [22.047466 ]\n",
      " [19.728485 ]\n",
      " [20.5013   ]\n",
      " [21.649817 ]\n",
      " [24.823944 ]\n",
      " [21.73918  ]\n",
      " [20.405678 ]\n",
      " [22.472305 ]\n",
      " [18.159103 ]\n",
      " [19.833504 ]\n",
      " [20.685493 ]\n",
      " [24.294708 ]\n",
      " [24.848562 ]\n",
      " [23.399235 ]\n",
      " [21.230787 ]\n",
      " [22.716389 ]\n",
      " [24.547848 ]\n",
      " [27.425846 ]\n",
      " [27.869728 ]\n",
      " [27.371584 ]\n",
      " [24.493744 ]\n",
      " [25.717466 ]\n",
      " [24.387676 ]\n",
      " [24.51417  ]\n",
      " [22.827312 ]\n",
      " [24.606808 ]\n",
      " [19.12909  ]\n",
      " [17.923744 ]\n",
      " [14.989999 ]\n",
      " [19.449852 ]\n",
      " [16.619394 ]\n",
      " [17.755108 ]\n",
      " [17.996176 ]\n",
      " [21.53891  ]\n",
      " [16.341969 ]\n",
      " [17.216393 ]\n",
      " [17.610138 ]\n",
      " [17.371822 ]\n",
      " [17.06295  ]\n",
      " [20.404938 ]\n",
      " [17.47445  ]\n",
      " [18.74642  ]\n",
      " [16.597248 ]\n",
      " [14.867647 ]\n",
      " [15.782237 ]\n",
      " [14.954783 ]\n",
      " [13.763892 ]\n",
      " [16.22458  ]\n",
      " [16.47277  ]\n",
      " [14.010605 ]\n",
      " [14.7583685]\n",
      " [15.059015 ]\n",
      " [15.118488 ]\n",
      " [15.040215 ]\n",
      " [18.522247 ]]\n"
     ]
    }
   ],
   "source": [
    "print(y_pred)"
   ]
  },
  {
   "cell_type": "code",
   "execution_count": 42,
   "metadata": {},
   "outputs": [
    {
     "name": "stdout",
     "output_type": "stream",
     "text": [
      "[[[12.]\n",
      "  [20.]\n",
      "  [21.]\n",
      "  ...\n",
      "  [16.]\n",
      "  [21.]\n",
      "  [24.]]\n",
      "\n",
      " [[20.]\n",
      "  [21.]\n",
      "  [13.]\n",
      "  ...\n",
      "  [21.]\n",
      "  [24.]\n",
      "  [14.]]\n",
      "\n",
      " [[21.]\n",
      "  [13.]\n",
      "  [20.]\n",
      "  ...\n",
      "  [24.]\n",
      "  [14.]\n",
      "  [19.]]\n",
      "\n",
      " ...\n",
      "\n",
      " [[ 7.]\n",
      "  [16.]\n",
      "  [12.]\n",
      "  ...\n",
      "  [16.]\n",
      "  [14.]\n",
      "  [19.]]\n",
      "\n",
      " [[16.]\n",
      "  [12.]\n",
      "  [ 6.]\n",
      "  ...\n",
      "  [14.]\n",
      "  [19.]\n",
      "  [15.]]\n",
      "\n",
      " [[12.]\n",
      "  [ 6.]\n",
      "  [18.]\n",
      "  ...\n",
      "  [19.]\n",
      "  [15.]\n",
      "  [27.]]]\n"
     ]
    }
   ],
   "source": [
    "print(X_test)"
   ]
  },
  {
   "cell_type": "code",
   "execution_count": 43,
   "metadata": {},
   "outputs": [],
   "source": [
    "Results =[]"
   ]
  },
  {
   "cell_type": "code",
   "execution_count": 44,
   "metadata": {},
   "outputs": [],
   "source": [
    "Results = pd.DataFrame( columns=['sales','pred'])"
   ]
  },
  {
   "cell_type": "code",
   "execution_count": 45,
   "metadata": {},
   "outputs": [],
   "source": [
    "Results['sales'] = test['sales']"
   ]
  },
  {
   "cell_type": "code",
   "execution_count": 46,
   "metadata": {},
   "outputs": [
    {
     "data": {
      "text/html": [
       "<div>\n",
       "<style scoped>\n",
       "    .dataframe tbody tr th:only-of-type {\n",
       "        vertical-align: middle;\n",
       "    }\n",
       "\n",
       "    .dataframe tbody tr th {\n",
       "        vertical-align: top;\n",
       "    }\n",
       "\n",
       "    .dataframe thead th {\n",
       "        text-align: right;\n",
       "    }\n",
       "</style>\n",
       "<table border=\"1\" class=\"dataframe\">\n",
       "  <thead>\n",
       "    <tr style=\"text-align: right;\">\n",
       "      <th></th>\n",
       "      <th>sales</th>\n",
       "      <th>pred</th>\n",
       "    </tr>\n",
       "  </thead>\n",
       "  <tbody>\n",
       "    <tr>\n",
       "      <th>1450</th>\n",
       "      <td>12.0</td>\n",
       "      <td>NaN</td>\n",
       "    </tr>\n",
       "    <tr>\n",
       "      <th>1451</th>\n",
       "      <td>20.0</td>\n",
       "      <td>NaN</td>\n",
       "    </tr>\n",
       "    <tr>\n",
       "      <th>1452</th>\n",
       "      <td>21.0</td>\n",
       "      <td>NaN</td>\n",
       "    </tr>\n",
       "    <tr>\n",
       "      <th>1453</th>\n",
       "      <td>13.0</td>\n",
       "      <td>NaN</td>\n",
       "    </tr>\n",
       "    <tr>\n",
       "      <th>1454</th>\n",
       "      <td>20.0</td>\n",
       "      <td>NaN</td>\n",
       "    </tr>\n",
       "  </tbody>\n",
       "</table>\n",
       "</div>"
      ],
      "text/plain": [
       "      sales pred\n",
       "1450   12.0  NaN\n",
       "1451   20.0  NaN\n",
       "1452   21.0  NaN\n",
       "1453   13.0  NaN\n",
       "1454   20.0  NaN"
      ]
     },
     "execution_count": 46,
     "metadata": {},
     "output_type": "execute_result"
    }
   ],
   "source": [
    "Results.head()"
   ]
  },
  {
   "cell_type": "markdown",
   "metadata": {},
   "source": [
    "# Getting the data ready to compare and ensuring can see by actual date rather then an index"
   ]
  },
  {
   "cell_type": "code",
   "execution_count": 47,
   "metadata": {},
   "outputs": [],
   "source": [
    "y_pred_df = pd.DataFrame(y_pred, columns=['pred'])"
   ]
  },
  {
   "cell_type": "code",
   "execution_count": 48,
   "metadata": {},
   "outputs": [],
   "source": [
    "Results = Results[10:]  # As the Deep Learning process added the forst 10 dates I had to drop the first 10 rows, so the first result was 1 Jan 2017"
   ]
  },
  {
   "cell_type": "code",
   "execution_count": 49,
   "metadata": {},
   "outputs": [
    {
     "data": {
      "text/html": [
       "<div>\n",
       "<style scoped>\n",
       "    .dataframe tbody tr th:only-of-type {\n",
       "        vertical-align: middle;\n",
       "    }\n",
       "\n",
       "    .dataframe tbody tr th {\n",
       "        vertical-align: top;\n",
       "    }\n",
       "\n",
       "    .dataframe thead th {\n",
       "        text-align: right;\n",
       "    }\n",
       "</style>\n",
       "<table border=\"1\" class=\"dataframe\">\n",
       "  <thead>\n",
       "    <tr style=\"text-align: right;\">\n",
       "      <th></th>\n",
       "      <th>pred</th>\n",
       "    </tr>\n",
       "  </thead>\n",
       "  <tbody>\n",
       "    <tr>\n",
       "      <th>0</th>\n",
       "      <td>17.554134</td>\n",
       "    </tr>\n",
       "    <tr>\n",
       "      <th>1</th>\n",
       "      <td>17.412334</td>\n",
       "    </tr>\n",
       "    <tr>\n",
       "      <th>2</th>\n",
       "      <td>17.706165</td>\n",
       "    </tr>\n",
       "    <tr>\n",
       "      <th>3</th>\n",
       "      <td>15.718063</td>\n",
       "    </tr>\n",
       "    <tr>\n",
       "      <th>4</th>\n",
       "      <td>14.884052</td>\n",
       "    </tr>\n",
       "  </tbody>\n",
       "</table>\n",
       "</div>"
      ],
      "text/plain": [
       "        pred\n",
       "0  17.554134\n",
       "1  17.412334\n",
       "2  17.706165\n",
       "3  15.718063\n",
       "4  14.884052"
      ]
     },
     "execution_count": 49,
     "metadata": {},
     "output_type": "execute_result"
    }
   ],
   "source": [
    "y_pred_df.head()"
   ]
  },
  {
   "cell_type": "code",
   "execution_count": 50,
   "metadata": {},
   "outputs": [],
   "source": [
    "Results= Results.reset_index() "
   ]
  },
  {
   "cell_type": "code",
   "execution_count": 51,
   "metadata": {},
   "outputs": [
    {
     "data": {
      "text/html": [
       "<div>\n",
       "<style scoped>\n",
       "    .dataframe tbody tr th:only-of-type {\n",
       "        vertical-align: middle;\n",
       "    }\n",
       "\n",
       "    .dataframe tbody tr th {\n",
       "        vertical-align: top;\n",
       "    }\n",
       "\n",
       "    .dataframe thead th {\n",
       "        text-align: right;\n",
       "    }\n",
       "</style>\n",
       "<table border=\"1\" class=\"dataframe\">\n",
       "  <thead>\n",
       "    <tr style=\"text-align: right;\">\n",
       "      <th></th>\n",
       "      <th>index</th>\n",
       "      <th>sales</th>\n",
       "      <th>pred</th>\n",
       "    </tr>\n",
       "  </thead>\n",
       "  <tbody>\n",
       "    <tr>\n",
       "      <th>0</th>\n",
       "      <td>1460</td>\n",
       "      <td>14.0</td>\n",
       "      <td>NaN</td>\n",
       "    </tr>\n",
       "    <tr>\n",
       "      <th>1</th>\n",
       "      <td>1461</td>\n",
       "      <td>19.0</td>\n",
       "      <td>NaN</td>\n",
       "    </tr>\n",
       "    <tr>\n",
       "      <th>2</th>\n",
       "      <td>1462</td>\n",
       "      <td>15.0</td>\n",
       "      <td>NaN</td>\n",
       "    </tr>\n",
       "    <tr>\n",
       "      <th>3</th>\n",
       "      <td>1463</td>\n",
       "      <td>10.0</td>\n",
       "      <td>NaN</td>\n",
       "    </tr>\n",
       "    <tr>\n",
       "      <th>4</th>\n",
       "      <td>1464</td>\n",
       "      <td>16.0</td>\n",
       "      <td>NaN</td>\n",
       "    </tr>\n",
       "    <tr>\n",
       "      <th>5</th>\n",
       "      <td>1465</td>\n",
       "      <td>14.0</td>\n",
       "      <td>NaN</td>\n",
       "    </tr>\n",
       "    <tr>\n",
       "      <th>6</th>\n",
       "      <td>1466</td>\n",
       "      <td>24.0</td>\n",
       "      <td>NaN</td>\n",
       "    </tr>\n",
       "    <tr>\n",
       "      <th>7</th>\n",
       "      <td>1467</td>\n",
       "      <td>14.0</td>\n",
       "      <td>NaN</td>\n",
       "    </tr>\n",
       "    <tr>\n",
       "      <th>8</th>\n",
       "      <td>1468</td>\n",
       "      <td>20.0</td>\n",
       "      <td>NaN</td>\n",
       "    </tr>\n",
       "    <tr>\n",
       "      <th>9</th>\n",
       "      <td>1469</td>\n",
       "      <td>18.0</td>\n",
       "      <td>NaN</td>\n",
       "    </tr>\n",
       "  </tbody>\n",
       "</table>\n",
       "</div>"
      ],
      "text/plain": [
       "   index  sales pred\n",
       "0   1460   14.0  NaN\n",
       "1   1461   19.0  NaN\n",
       "2   1462   15.0  NaN\n",
       "3   1463   10.0  NaN\n",
       "4   1464   16.0  NaN\n",
       "5   1465   14.0  NaN\n",
       "6   1466   24.0  NaN\n",
       "7   1467   14.0  NaN\n",
       "8   1468   20.0  NaN\n",
       "9   1469   18.0  NaN"
      ]
     },
     "execution_count": 51,
     "metadata": {},
     "output_type": "execute_result"
    }
   ],
   "source": [
    "Results.head(10)"
   ]
  },
  {
   "cell_type": "code",
   "execution_count": 52,
   "metadata": {},
   "outputs": [],
   "source": [
    "#Results_c ['pred'] = model_c.predict(X_test_c)\n",
    "Results ['pred'] = y_pred_df['pred']  "
   ]
  },
  {
   "cell_type": "code",
   "execution_count": null,
   "metadata": {},
   "outputs": [],
   "source": []
  },
  {
   "cell_type": "code",
   "execution_count": 53,
   "metadata": {},
   "outputs": [],
   "source": [
    "Results = Results.set_index('index')"
   ]
  },
  {
   "cell_type": "code",
   "execution_count": 54,
   "metadata": {},
   "outputs": [],
   "source": [
    "Results =Results.drop (['sales'],axis=1)"
   ]
  },
  {
   "cell_type": "code",
   "execution_count": 55,
   "metadata": {},
   "outputs": [],
   "source": [
    "New_Results = pd.concat([Results, Deep1_all_With_index], axis=1)"
   ]
  },
  {
   "cell_type": "code",
   "execution_count": 56,
   "metadata": {},
   "outputs": [
    {
     "data": {
      "text/html": [
       "<div>\n",
       "<style scoped>\n",
       "    .dataframe tbody tr th:only-of-type {\n",
       "        vertical-align: middle;\n",
       "    }\n",
       "\n",
       "    .dataframe tbody tr th {\n",
       "        vertical-align: top;\n",
       "    }\n",
       "\n",
       "    .dataframe thead th {\n",
       "        text-align: right;\n",
       "    }\n",
       "</style>\n",
       "<table border=\"1\" class=\"dataframe\">\n",
       "  <thead>\n",
       "    <tr style=\"text-align: right;\">\n",
       "      <th></th>\n",
       "      <th>pred</th>\n",
       "      <th>date</th>\n",
       "      <th>sales</th>\n",
       "    </tr>\n",
       "  </thead>\n",
       "  <tbody>\n",
       "    <tr>\n",
       "      <th>0</th>\n",
       "      <td>NaN</td>\n",
       "      <td>2013-01-01</td>\n",
       "      <td>13</td>\n",
       "    </tr>\n",
       "    <tr>\n",
       "      <th>1</th>\n",
       "      <td>NaN</td>\n",
       "      <td>2013-01-02</td>\n",
       "      <td>11</td>\n",
       "    </tr>\n",
       "    <tr>\n",
       "      <th>2</th>\n",
       "      <td>NaN</td>\n",
       "      <td>2013-01-03</td>\n",
       "      <td>14</td>\n",
       "    </tr>\n",
       "    <tr>\n",
       "      <th>3</th>\n",
       "      <td>NaN</td>\n",
       "      <td>2013-01-04</td>\n",
       "      <td>13</td>\n",
       "    </tr>\n",
       "    <tr>\n",
       "      <th>4</th>\n",
       "      <td>NaN</td>\n",
       "      <td>2013-01-05</td>\n",
       "      <td>10</td>\n",
       "    </tr>\n",
       "  </tbody>\n",
       "</table>\n",
       "</div>"
      ],
      "text/plain": [
       "   pred       date  sales\n",
       "0   NaN 2013-01-01     13\n",
       "1   NaN 2013-01-02     11\n",
       "2   NaN 2013-01-03     14\n",
       "3   NaN 2013-01-04     13\n",
       "4   NaN 2013-01-05     10"
      ]
     },
     "execution_count": 56,
     "metadata": {},
     "output_type": "execute_result"
    }
   ],
   "source": [
    "New_Results.head() ##### GOOD"
   ]
  },
  {
   "cell_type": "code",
   "execution_count": 57,
   "metadata": {},
   "outputs": [
    {
     "data": {
      "text/html": [
       "<div>\n",
       "<style scoped>\n",
       "    .dataframe tbody tr th:only-of-type {\n",
       "        vertical-align: middle;\n",
       "    }\n",
       "\n",
       "    .dataframe tbody tr th {\n",
       "        vertical-align: top;\n",
       "    }\n",
       "\n",
       "    .dataframe thead th {\n",
       "        text-align: right;\n",
       "    }\n",
       "</style>\n",
       "<table border=\"1\" class=\"dataframe\">\n",
       "  <thead>\n",
       "    <tr style=\"text-align: right;\">\n",
       "      <th></th>\n",
       "      <th>pred</th>\n",
       "      <th>date</th>\n",
       "      <th>sales</th>\n",
       "    </tr>\n",
       "  </thead>\n",
       "  <tbody>\n",
       "    <tr>\n",
       "      <th>1821</th>\n",
       "      <td>14.758368</td>\n",
       "      <td>2017-12-27</td>\n",
       "      <td>14</td>\n",
       "    </tr>\n",
       "    <tr>\n",
       "      <th>1822</th>\n",
       "      <td>15.059015</td>\n",
       "      <td>2017-12-28</td>\n",
       "      <td>19</td>\n",
       "    </tr>\n",
       "    <tr>\n",
       "      <th>1823</th>\n",
       "      <td>15.118488</td>\n",
       "      <td>2017-12-29</td>\n",
       "      <td>15</td>\n",
       "    </tr>\n",
       "    <tr>\n",
       "      <th>1824</th>\n",
       "      <td>15.040215</td>\n",
       "      <td>2017-12-30</td>\n",
       "      <td>27</td>\n",
       "    </tr>\n",
       "    <tr>\n",
       "      <th>1825</th>\n",
       "      <td>18.522247</td>\n",
       "      <td>2017-12-31</td>\n",
       "      <td>23</td>\n",
       "    </tr>\n",
       "  </tbody>\n",
       "</table>\n",
       "</div>"
      ],
      "text/plain": [
       "           pred       date  sales\n",
       "1821  14.758368 2017-12-27     14\n",
       "1822  15.059015 2017-12-28     19\n",
       "1823  15.118488 2017-12-29     15\n",
       "1824  15.040215 2017-12-30     27\n",
       "1825  18.522247 2017-12-31     23"
      ]
     },
     "execution_count": 57,
     "metadata": {},
     "output_type": "execute_result"
    }
   ],
   "source": [
    "New_Results.tail() ##### GOOD"
   ]
  },
  {
   "cell_type": "code",
   "execution_count": null,
   "metadata": {},
   "outputs": [],
   "source": []
  },
  {
   "cell_type": "code",
   "execution_count": 58,
   "metadata": {},
   "outputs": [
    {
     "data": {
      "text/html": [
       "<div>\n",
       "<style scoped>\n",
       "    .dataframe tbody tr th:only-of-type {\n",
       "        vertical-align: middle;\n",
       "    }\n",
       "\n",
       "    .dataframe tbody tr th {\n",
       "        vertical-align: top;\n",
       "    }\n",
       "\n",
       "    .dataframe thead th {\n",
       "        text-align: right;\n",
       "    }\n",
       "</style>\n",
       "<table border=\"1\" class=\"dataframe\">\n",
       "  <thead>\n",
       "    <tr style=\"text-align: right;\">\n",
       "      <th></th>\n",
       "      <th>pred</th>\n",
       "      <th>date</th>\n",
       "      <th>sales</th>\n",
       "    </tr>\n",
       "  </thead>\n",
       "  <tbody>\n",
       "    <tr>\n",
       "      <th>1821</th>\n",
       "      <td>14.758368</td>\n",
       "      <td>2017-12-27</td>\n",
       "      <td>14</td>\n",
       "    </tr>\n",
       "    <tr>\n",
       "      <th>1822</th>\n",
       "      <td>15.059015</td>\n",
       "      <td>2017-12-28</td>\n",
       "      <td>19</td>\n",
       "    </tr>\n",
       "    <tr>\n",
       "      <th>1823</th>\n",
       "      <td>15.118488</td>\n",
       "      <td>2017-12-29</td>\n",
       "      <td>15</td>\n",
       "    </tr>\n",
       "    <tr>\n",
       "      <th>1824</th>\n",
       "      <td>15.040215</td>\n",
       "      <td>2017-12-30</td>\n",
       "      <td>27</td>\n",
       "    </tr>\n",
       "    <tr>\n",
       "      <th>1825</th>\n",
       "      <td>18.522247</td>\n",
       "      <td>2017-12-31</td>\n",
       "      <td>23</td>\n",
       "    </tr>\n",
       "  </tbody>\n",
       "</table>\n",
       "</div>"
      ],
      "text/plain": [
       "           pred       date  sales\n",
       "1821  14.758368 2017-12-27     14\n",
       "1822  15.059015 2017-12-28     19\n",
       "1823  15.118488 2017-12-29     15\n",
       "1824  15.040215 2017-12-30     27\n",
       "1825  18.522247 2017-12-31     23"
      ]
     },
     "execution_count": 58,
     "metadata": {},
     "output_type": "execute_result"
    }
   ],
   "source": [
    "New_Results.tail()"
   ]
  },
  {
   "cell_type": "code",
   "execution_count": 59,
   "metadata": {},
   "outputs": [],
   "source": [
    "Results_with_date_2017 = New_Results[(New_Results.date>'2016-12-31')]"
   ]
  },
  {
   "cell_type": "code",
   "execution_count": 60,
   "metadata": {},
   "outputs": [
    {
     "data": {
      "text/html": [
       "<div>\n",
       "<style scoped>\n",
       "    .dataframe tbody tr th:only-of-type {\n",
       "        vertical-align: middle;\n",
       "    }\n",
       "\n",
       "    .dataframe tbody tr th {\n",
       "        vertical-align: top;\n",
       "    }\n",
       "\n",
       "    .dataframe thead th {\n",
       "        text-align: right;\n",
       "    }\n",
       "</style>\n",
       "<table border=\"1\" class=\"dataframe\">\n",
       "  <thead>\n",
       "    <tr style=\"text-align: right;\">\n",
       "      <th></th>\n",
       "      <th>pred</th>\n",
       "      <th>date</th>\n",
       "      <th>sales</th>\n",
       "    </tr>\n",
       "  </thead>\n",
       "  <tbody>\n",
       "    <tr>\n",
       "      <th>1461</th>\n",
       "      <td>17.412334</td>\n",
       "      <td>2017-01-01</td>\n",
       "      <td>19</td>\n",
       "    </tr>\n",
       "    <tr>\n",
       "      <th>1462</th>\n",
       "      <td>17.706165</td>\n",
       "      <td>2017-01-02</td>\n",
       "      <td>15</td>\n",
       "    </tr>\n",
       "    <tr>\n",
       "      <th>1463</th>\n",
       "      <td>15.718063</td>\n",
       "      <td>2017-01-03</td>\n",
       "      <td>10</td>\n",
       "    </tr>\n",
       "    <tr>\n",
       "      <th>1464</th>\n",
       "      <td>14.884052</td>\n",
       "      <td>2017-01-04</td>\n",
       "      <td>16</td>\n",
       "    </tr>\n",
       "    <tr>\n",
       "      <th>1465</th>\n",
       "      <td>16.952166</td>\n",
       "      <td>2017-01-05</td>\n",
       "      <td>14</td>\n",
       "    </tr>\n",
       "  </tbody>\n",
       "</table>\n",
       "</div>"
      ],
      "text/plain": [
       "           pred       date  sales\n",
       "1461  17.412334 2017-01-01     19\n",
       "1462  17.706165 2017-01-02     15\n",
       "1463  15.718063 2017-01-03     10\n",
       "1464  14.884052 2017-01-04     16\n",
       "1465  16.952166 2017-01-05     14"
      ]
     },
     "execution_count": 60,
     "metadata": {},
     "output_type": "execute_result"
    }
   ],
   "source": [
    "Results_with_date_2017.head()"
   ]
  },
  {
   "cell_type": "code",
   "execution_count": 61,
   "metadata": {},
   "outputs": [
    {
     "name": "stdout",
     "output_type": "stream",
     "text": [
      "4.4395997165000605\n"
     ]
    }
   ],
   "source": [
    "RMSE_Deep  = np.mean(np.sqrt((Results_with_date_2017['pred'] - Results_with_date_2017['sales']) ** 2)) \n",
    "print(RMSE_Deep)"
   ]
  },
  {
   "cell_type": "code",
   "execution_count": 62,
   "metadata": {},
   "outputs": [],
   "source": [
    "# Note this compares to 4.009 from XG boost for the same data period"
   ]
  },
  {
   "cell_type": "markdown",
   "metadata": {},
   "source": [
    "# Plotting"
   ]
  },
  {
   "cell_type": "code",
   "execution_count": 63,
   "metadata": {},
   "outputs": [
    {
     "data": {
      "image/png": "[encoded data removed]",
      "text/plain": [
       "<Figure size 1080x360 with 1 Axes>"
      ]
     },
     "metadata": {
      "needs_background": "light"
     },
     "output_type": "display_data"
    }
   ],
   "source": [
    "_ = Results_with_date_2017[['sales','pred']].plot(figsize=(15, 5))"
   ]
  },
  {
   "cell_type": "code",
   "execution_count": null,
   "metadata": {},
   "outputs": [],
   "source": []
  },
  {
   "cell_type": "code",
   "execution_count": 64,
   "metadata": {},
   "outputs": [
    {
     "ename": "NameError",
     "evalue": "name 'Results_c' is not defined",
     "output_type": "error",
     "traceback": [
      "\u001b[1;31m---------------------------------------------------------------------------\u001b[0m",
      "\u001b[1;31mNameError\u001b[0m                                 Traceback (most recent call last)",
      "\u001b[1;32m<ipython-input-64-7a74caa231cd>\u001b[0m in \u001b[0;36m<module>\u001b[1;34m\u001b[0m\n\u001b[1;32m----> 1\u001b[1;33m \u001b[0mResults_c\u001b[0m\u001b[1;33m.\u001b[0m\u001b[0mhead\u001b[0m\u001b[1;33m(\u001b[0m\u001b[1;33m)\u001b[0m\u001b[1;33m\u001b[0m\u001b[1;33m\u001b[0m\u001b[0m\n\u001b[0m",
      "\u001b[1;31mNameError\u001b[0m: name 'Results_c' is not defined"
     ]
    }
   ],
   "source": [
    "Results_c.head()"
   ]
  },
  {
   "cell_type": "code",
   "execution_count": null,
   "metadata": {},
   "outputs": [],
   "source": [
    "Results_with_date_Jan_2017 =Results_with_date_2017[(New_Results.date<'2017-02-01')]"
   ]
  },
  {
   "cell_type": "code",
   "execution_count": null,
   "metadata": {},
   "outputs": [],
   "source": [
    "_ = Results_with_date_Jan_2017[['sales','pred']].plot(figsize=(15, 5))"
   ]
  },
  {
   "cell_type": "code",
   "execution_count": null,
   "metadata": {},
   "outputs": [],
   "source": []
  }
 ],
 "metadata": {
  "colab": {
   "collapsed_sections": [],
   "name": "DSIA Lab.4.4.ipynb",
   "provenance": []
  },
  "kernelspec": {
   "display_name": "Python 3",
   "language": "python",
   "name": "python3"
  },
  "language_info": {
   "codemirror_mode": {
    "name": "ipython",
    "version": 3
   },
   "file_extension": ".py",
   "mimetype": "text/x-python",
   "name": "python",
   "nbconvert_exporter": "python",
   "pygments_lexer": "ipython3",
   "version": "3.7.6"
  }
 },
 "nbformat": 4,
 "nbformat_minor": 1
}
